{
  "nbformat": 4,
  "nbformat_minor": 0,
  "metadata": {
    "colab": {
      "name": "FGSM_CIFAR.ipynb",
      "version": "0.3.2",
      "provenance": []
    },
    "language_info": {
      "name": "python",
      "version": "3.6.6",
      "mimetype": "text/x-python",
      "codemirror_mode": {
        "name": "ipython",
        "version": 3
      },
      "pygments_lexer": "ipython3",
      "nbconvert_exporter": "python",
      "file_extension": ".py"
    },
    "kernelspec": {
      "display_name": "Python 3",
      "language": "python",
      "name": "python3"
    }
  },
  "cells": [
    {
      "cell_type": "code",
      "metadata": {
        "_uuid": "8f2839f25d086af736a60e9eeb907d3b93b6e0e5",
        "_cell_guid": "b1076dfc-b9ad-4769-8c92-a6c4dae69d19",
        "trusted": true,
        "id": "SJ8S6JTYPNQq",
        "colab_type": "code",
        "colab": {
          "base_uri": "https://localhost:8080/",
          "height": 289
        },
        "outputId": "96273261-b741-441e-af87-f04c1330888d"
      },
      "source": [
        "import torch\n",
        "import torch.nn as nn\n",
        "import torchvision\n",
        "import torchvision.transforms as transforms\n",
        "import numpy as np\n",
        "\n",
        "\n",
        "# Device configuration\n",
        "device = torch.device('cuda' if torch.cuda.is_available() else 'cpu')\n",
        "\n",
        "# Hyper-parameters\n",
        "input_size = 1024*3\n",
        "hidden_size = 500\n",
        "num_classes = 10\n",
        "num_epochs = 15\n",
        "batch_size = 100\n",
        "learning_rate = 0.001\n",
        "\n",
        "# MNIST dataset \n",
        "train_dataset = torchvision.datasets.CIFAR10(root='../../data',        \n",
        "                                           train=True, \n",
        "                                           transform=transforms.ToTensor(),  \n",
        "                                           download=True)\n",
        "\n",
        "test_dataset = torchvision.datasets.CIFAR10(root='../../data', \n",
        "                                          train=False, \n",
        "                                          transform=transforms.ToTensor())\n",
        "\n",
        "# Data loader\n",
        "train_loader = torch.utils.data.DataLoader(dataset=train_dataset, \n",
        "                                           batch_size=batch_size, \n",
        "                                           shuffle=True)\n",
        "\n",
        "test_loader = torch.utils.data.DataLoader(dataset=test_dataset, \n",
        "                                          batch_size=batch_size, \n",
        "                                          shuffle=False)\n",
        "\n",
        "# Fully connected neural network with one hidden layer\n",
        "class NeuralNet(nn.Module):\n",
        "    def __init__(self, input_size, hidden_size, num_classes):\n",
        "        super(NeuralNet, self).__init__()\n",
        "        self.fc1 = nn.Linear(input_size, hidden_size) \n",
        "        self.relu = nn.ReLU()\n",
        "        self.fc2 = nn.Linear(hidden_size, num_classes)  \n",
        "    \n",
        "    def forward(self, x):\n",
        "        out = self.fc1(x)\n",
        "        out = self.relu(out)\n",
        "        out = self.fc2(out)\n",
        "        return out\n",
        "\n",
        "model = NeuralNet(input_size, hidden_size, num_classes).to(device)\n",
        "\n",
        "# Loss and optimizer\n",
        "criterion = nn.CrossEntropyLoss()\n",
        "optimizer = torch.optim.Adam(model.parameters(), lr=learning_rate)  \n",
        "\n",
        "# Train the model\n",
        "total_step = len(train_loader)\n",
        "for epoch in range(num_epochs):\n",
        "    for i, (images, labels) in enumerate(train_loader):  \n",
        "        # Move tensors to the configured device\n",
        "        images = images.reshape(-1, input_size).to(device)\n",
        "        labels = labels.to(device)\n",
        "        \n",
        "        # Forward pass\n",
        "        outputs = model(images)\n",
        "        loss = criterion(outputs, labels)\n",
        "        \n",
        "        # Backward and optimize\n",
        "        optimizer.zero_grad()\n",
        "        loss.backward()\n",
        "        optimizer.step()\n",
        "        \n",
        "        if (i+1) % 300 == 0:\n",
        "            print ('Epoch [{}/{}], Step [{}/{}], Loss: {:.4f}' \n",
        "                   .format(epoch+1, num_epochs, i+1, total_step, loss.item()))\n",
        "\n",
        "# Test the model\n",
        "# In test phase, we don't need to compute gradients (for memory efficiency)"
      ],
      "execution_count": 43,
      "outputs": [
        {
          "output_type": "stream",
          "text": [
            "Files already downloaded and verified\n",
            "Epoch [1/15], Step [300/500], Loss: 1.8697\n",
            "Epoch [2/15], Step [300/500], Loss: 1.6817\n",
            "Epoch [3/15], Step [300/500], Loss: 1.6816\n",
            "Epoch [4/15], Step [300/500], Loss: 1.5306\n",
            "Epoch [5/15], Step [300/500], Loss: 1.5579\n",
            "Epoch [6/15], Step [300/500], Loss: 1.5364\n",
            "Epoch [7/15], Step [300/500], Loss: 1.4349\n",
            "Epoch [8/15], Step [300/500], Loss: 1.4449\n",
            "Epoch [9/15], Step [300/500], Loss: 1.5286\n",
            "Epoch [10/15], Step [300/500], Loss: 1.5195\n",
            "Epoch [11/15], Step [300/500], Loss: 1.5488\n",
            "Epoch [12/15], Step [300/500], Loss: 1.3466\n",
            "Epoch [13/15], Step [300/500], Loss: 1.2682\n",
            "Epoch [14/15], Step [300/500], Loss: 1.2004\n",
            "Epoch [15/15], Step [300/500], Loss: 1.2825\n"
          ],
          "name": "stdout"
        }
      ]
    },
    {
      "cell_type": "code",
      "metadata": {
        "trusted": true,
        "id": "Q0Rje5ZxPNQ0",
        "colab_type": "code",
        "colab": {
          "base_uri": "https://localhost:8080/",
          "height": 581
        },
        "outputId": "ea3b9a08-be64-487e-c926-7cbd7434f0bd"
      },
      "source": [
        "import torch\n",
        "import torch.nn as nn\n",
        "from torchsummary import summary\n",
        "\n",
        "class CIFAR10(nn.Module):\n",
        "    def __init__(self):\n",
        "        super(CIFAR10, self).__init__()\n",
        "        self.pad1 = nn.ZeroPad2d((2, 2, 2, 2))\n",
        "        \n",
        "        self.layer1 = nn.Sequential(\n",
        "        nn.Conv2d(in_channels=3, out_channels=32, kernel_size=(7, 7), stride=(1, 1), bias=False), \n",
        "        nn.BatchNorm2d(num_features=32),\n",
        "        nn.MaxPool2d(kernel_size=(2,2)),\n",
        "        nn.ReLU()\n",
        "        )\n",
        "    \n",
        "        self.layer2 = nn.Sequential(\n",
        "        nn.Conv2d(in_channels=32, out_channels=64, kernel_size=(5, 5), stride=(1, 1), bias=False), \n",
        "        nn.BatchNorm2d(num_features=64),\n",
        "        nn.ReLU()\n",
        "        )\n",
        "        \n",
        "        self.layer3 = nn.Sequential(\n",
        "        nn.Conv2d(in_channels=64, out_channels=128, kernel_size=(3, 3), stride=(1, 1), bias=False), \n",
        "        nn.BatchNorm2d(num_features=128),\n",
        "        nn.MaxPool2d(kernel_size=(3,3)),\n",
        "        nn.ReLU()\n",
        "        )\n",
        "        \n",
        "        self.fc1 = nn.Sequential(\n",
        "        nn.Linear(in_features=1152, out_features=512),\n",
        "        nn.ReLU()\n",
        "        )\n",
        "        self.dropout1 = nn.Dropout(p=0.2)\n",
        "        \n",
        "        self.fc2 = nn.Sequential(\n",
        "        nn.Linear(in_features=512, out_features=10),\n",
        "        nn.Softmax()\n",
        "        )\n",
        "        \n",
        "    def forward(self, x):\n",
        "        x = self.pad1(x)\n",
        "        x = self.layer1(x)\n",
        "        x = self.layer2(x)\n",
        "        x = self.layer3(x)\n",
        "        x = x.reshape(x.shape[0], -1)\n",
        "        x = self.fc1(x)\n",
        "        x = self.dropout1(x)\n",
        "        out = self.fc2(x)\n",
        "        \n",
        "        return out\n",
        "      \n",
        "my_model = CIFAR10().to(device)\n",
        "summary(my_model, input_size=(3, 32, 32))  "
      ],
      "execution_count": 44,
      "outputs": [
        {
          "output_type": "stream",
          "text": [
            "----------------------------------------------------------------\n",
            "        Layer (type)               Output Shape         Param #\n",
            "================================================================\n",
            "         ZeroPad2d-1            [-1, 3, 36, 36]               0\n",
            "            Conv2d-2           [-1, 32, 30, 30]           4,704\n",
            "       BatchNorm2d-3           [-1, 32, 30, 30]              64\n",
            "         MaxPool2d-4           [-1, 32, 15, 15]               0\n",
            "              ReLU-5           [-1, 32, 15, 15]               0\n",
            "            Conv2d-6           [-1, 64, 11, 11]          51,200\n",
            "       BatchNorm2d-7           [-1, 64, 11, 11]             128\n",
            "              ReLU-8           [-1, 64, 11, 11]               0\n",
            "            Conv2d-9            [-1, 128, 9, 9]          73,728\n",
            "      BatchNorm2d-10            [-1, 128, 9, 9]             256\n",
            "        MaxPool2d-11            [-1, 128, 3, 3]               0\n",
            "             ReLU-12            [-1, 128, 3, 3]               0\n",
            "           Linear-13                  [-1, 512]         590,336\n",
            "             ReLU-14                  [-1, 512]               0\n",
            "          Dropout-15                  [-1, 512]               0\n",
            "           Linear-16                   [-1, 10]           5,130\n",
            "          Softmax-17                   [-1, 10]               0\n",
            "================================================================\n",
            "Total params: 725,546\n",
            "Trainable params: 725,546\n",
            "Non-trainable params: 0\n",
            "----------------------------------------------------------------\n",
            "Input size (MB): 0.01\n",
            "Forward/backward pass size (MB): 0.94\n",
            "Params size (MB): 2.77\n",
            "Estimated Total Size (MB): 3.72\n",
            "----------------------------------------------------------------\n"
          ],
          "name": "stdout"
        },
        {
          "output_type": "stream",
          "text": [
            "/usr/local/lib/python3.6/dist-packages/torch/nn/modules/container.py:92: UserWarning: Implicit dimension choice for softmax has been deprecated. Change the call to include dim=X as an argument.\n",
            "  input = module(input)\n"
          ],
          "name": "stderr"
        }
      ]
    },
    {
      "cell_type": "code",
      "metadata": {
        "trusted": true,
        "id": "RBXh4MbqPNQ3",
        "colab_type": "code",
        "colab": {}
      },
      "source": [
        "my_model = CIFAR10().to(device)\n",
        "criterion = nn.CrossEntropyLoss()\n",
        "optimizer = torch.optim.Adam(my_model.parameters(), lr=learning_rate) "
      ],
      "execution_count": 0,
      "outputs": []
    },
    {
      "cell_type": "code",
      "metadata": {
        "trusted": true,
        "id": "WGQh_h2CPNQ6",
        "colab_type": "code",
        "colab": {
          "base_uri": "https://localhost:8080/",
          "height": 1329
        },
        "outputId": "5b79fa72-8c6d-43b5-ee44-f0231915e72f"
      },
      "source": [
        "# Train the model\n",
        "total_step = len(train_loader)\n",
        "for epoch in range(num_epochs):\n",
        "    for i, (images, labels) in enumerate(train_loader):  \n",
        "        # Move tensors to the configured device\n",
        "        images_np = np.asarray(images)\n",
        "        images = images.reshape(-1, 3, 32, 32).to(device)\n",
        "        labels = labels.to(device)\n",
        "        \n",
        "        # Forward pass\n",
        "        outputs = my_model(images)\n",
        "        loss = criterion(outputs, labels)\n",
        "        \n",
        "        # Backward and optimize\n",
        "        optimizer.zero_grad()\n",
        "        loss.backward()\n",
        "        optimizer.step()\n",
        "        \n",
        "        if (i+1) % 100 == 0:\n",
        "            print ('Epoch [{}/{}], Step [{}/{}], Loss: {:.4f}' \n",
        "                   .format(epoch+1, num_epochs, i+1, total_step, loss.item()))"
      ],
      "execution_count": 46,
      "outputs": [
        {
          "output_type": "stream",
          "text": [
            "/usr/local/lib/python3.6/dist-packages/torch/nn/modules/container.py:92: UserWarning: Implicit dimension choice for softmax has been deprecated. Change the call to include dim=X as an argument.\n",
            "  input = module(input)\n"
          ],
          "name": "stderr"
        },
        {
          "output_type": "stream",
          "text": [
            "Epoch [1/15], Step [100/500], Loss: 2.0212\n",
            "Epoch [1/15], Step [200/500], Loss: 2.0668\n",
            "Epoch [1/15], Step [300/500], Loss: 2.0412\n",
            "Epoch [1/15], Step [400/500], Loss: 2.0278\n",
            "Epoch [1/15], Step [500/500], Loss: 1.9098\n",
            "Epoch [2/15], Step [100/500], Loss: 1.9468\n",
            "Epoch [2/15], Step [200/500], Loss: 1.9195\n",
            "Epoch [2/15], Step [300/500], Loss: 2.0424\n",
            "Epoch [2/15], Step [400/500], Loss: 1.9922\n",
            "Epoch [2/15], Step [500/500], Loss: 1.9600\n",
            "Epoch [3/15], Step [100/500], Loss: 1.9038\n",
            "Epoch [3/15], Step [200/500], Loss: 1.8945\n",
            "Epoch [3/15], Step [300/500], Loss: 1.8352\n",
            "Epoch [3/15], Step [400/500], Loss: 1.8234\n",
            "Epoch [3/15], Step [500/500], Loss: 1.8969\n",
            "Epoch [4/15], Step [100/500], Loss: 1.8238\n",
            "Epoch [4/15], Step [200/500], Loss: 1.8464\n",
            "Epoch [4/15], Step [300/500], Loss: 1.8711\n",
            "Epoch [4/15], Step [400/500], Loss: 1.9298\n",
            "Epoch [4/15], Step [500/500], Loss: 1.8614\n",
            "Epoch [5/15], Step [100/500], Loss: 1.7542\n",
            "Epoch [5/15], Step [200/500], Loss: 1.7581\n",
            "Epoch [5/15], Step [300/500], Loss: 1.7489\n",
            "Epoch [5/15], Step [400/500], Loss: 1.8035\n",
            "Epoch [5/15], Step [500/500], Loss: 1.8984\n",
            "Epoch [6/15], Step [100/500], Loss: 1.7581\n",
            "Epoch [6/15], Step [200/500], Loss: 1.7656\n",
            "Epoch [6/15], Step [300/500], Loss: 1.7660\n",
            "Epoch [6/15], Step [400/500], Loss: 1.8999\n",
            "Epoch [6/15], Step [500/500], Loss: 1.8294\n",
            "Epoch [7/15], Step [100/500], Loss: 1.8588\n",
            "Epoch [7/15], Step [200/500], Loss: 1.8312\n",
            "Epoch [7/15], Step [300/500], Loss: 1.7674\n",
            "Epoch [7/15], Step [400/500], Loss: 1.7584\n",
            "Epoch [7/15], Step [500/500], Loss: 1.7762\n",
            "Epoch [8/15], Step [100/500], Loss: 1.8172\n",
            "Epoch [8/15], Step [200/500], Loss: 1.7615\n",
            "Epoch [8/15], Step [300/500], Loss: 1.7407\n",
            "Epoch [8/15], Step [400/500], Loss: 1.8472\n",
            "Epoch [8/15], Step [500/500], Loss: 1.8138\n",
            "Epoch [9/15], Step [100/500], Loss: 1.7474\n",
            "Epoch [9/15], Step [200/500], Loss: 1.7854\n",
            "Epoch [9/15], Step [300/500], Loss: 1.7435\n",
            "Epoch [9/15], Step [400/500], Loss: 1.7608\n",
            "Epoch [9/15], Step [500/500], Loss: 1.7536\n",
            "Epoch [10/15], Step [100/500], Loss: 1.7344\n",
            "Epoch [10/15], Step [200/500], Loss: 1.7209\n",
            "Epoch [10/15], Step [300/500], Loss: 1.7050\n",
            "Epoch [10/15], Step [500/500], Loss: 1.7839\n",
            "Epoch [11/15], Step [100/500], Loss: 1.7230\n",
            "Epoch [11/15], Step [200/500], Loss: 1.7244\n",
            "Epoch [11/15], Step [300/500], Loss: 1.6959\n",
            "Epoch [11/15], Step [400/500], Loss: 1.8150\n",
            "Epoch [11/15], Step [500/500], Loss: 1.7178\n",
            "Epoch [12/15], Step [100/500], Loss: 1.6907\n",
            "Epoch [12/15], Step [200/500], Loss: 1.6895\n",
            "Epoch [12/15], Step [300/500], Loss: 1.6927\n",
            "Epoch [12/15], Step [400/500], Loss: 1.7728\n",
            "Epoch [12/15], Step [500/500], Loss: 1.7932\n",
            "Epoch [13/15], Step [100/500], Loss: 1.6706\n",
            "Epoch [13/15], Step [200/500], Loss: 1.7496\n",
            "Epoch [13/15], Step [300/500], Loss: 1.6704\n",
            "Epoch [13/15], Step [400/500], Loss: 1.6823\n",
            "Epoch [13/15], Step [500/500], Loss: 1.7189\n",
            "Epoch [14/15], Step [100/500], Loss: 1.6518\n",
            "Epoch [14/15], Step [200/500], Loss: 1.7316\n",
            "Epoch [14/15], Step [300/500], Loss: 1.7630\n",
            "Epoch [14/15], Step [400/500], Loss: 1.7054\n",
            "Epoch [14/15], Step [500/500], Loss: 1.6471\n",
            "Epoch [15/15], Step [100/500], Loss: 1.7210\n",
            "Epoch [15/15], Step [200/500], Loss: 1.7296\n",
            "Epoch [15/15], Step [300/500], Loss: 1.6431\n",
            "Epoch [15/15], Step [400/500], Loss: 1.7110\n",
            "Epoch [15/15], Step [500/500], Loss: 1.6750\n"
          ],
          "name": "stdout"
        }
      ]
    },
    {
      "cell_type": "code",
      "metadata": {
        "trusted": true,
        "id": "3fs7RfqlPNQ-",
        "colab_type": "code",
        "colab": {
          "base_uri": "https://localhost:8080/",
          "height": 88
        },
        "outputId": "fc3ed088-58bf-4d7e-957e-1837faa136d1"
      },
      "source": [
        "with torch.no_grad():\n",
        "    correct = 0\n",
        "    total = 0\n",
        "    for images, labels in test_loader:\n",
        "        images = images.reshape(-1, 3, 32, 32).to(device)\n",
        "        labels = labels.to(device)\n",
        "        outputs = my_model(images)\n",
        "        _, predicted = torch.max(outputs.data, 1)\n",
        "        total += labels.size(0)\n",
        "        correct += (predicted == labels).sum().item()\n",
        "\n",
        "    print('Accuracy of the network on the {} test images: {} %'.format(total, 100 * correct / total))"
      ],
      "execution_count": 30,
      "outputs": [
        {
          "output_type": "stream",
          "text": [
            "/usr/local/lib/python3.6/dist-packages/torch/nn/modules/container.py:92: UserWarning: Implicit dimension choice for softmax has been deprecated. Change the call to include dim=X as an argument.\n",
            "  input = module(input)\n"
          ],
          "name": "stderr"
        },
        {
          "output_type": "stream",
          "text": [
            "Accuracy of the network on the 10000 test images: 64.4 %\n"
          ],
          "name": "stdout"
        }
      ]
    },
    {
      "cell_type": "code",
      "metadata": {
        "trusted": true,
        "id": "TsXwukTTPNRB",
        "colab_type": "code",
        "colab": {}
      },
      "source": [
        "for param in my_model.parameters():\n",
        "    param.requires_grad= False"
      ],
      "execution_count": 0,
      "outputs": []
    },
    {
      "cell_type": "code",
      "metadata": {
        "trusted": true,
        "id": "p61gqyX_PNRE",
        "colab_type": "code",
        "colab": {
          "base_uri": "https://localhost:8080/",
          "height": 71
        },
        "outputId": "c50410fd-d0c3-4d93-af19-325fb52a93d0"
      },
      "source": [
        "l =[]\n",
        "sign = []\n",
        "for epoch in range(1):\n",
        "    for i, (images, labels) in enumerate(test_loader):  \n",
        "        # Move tensors to the configured device\n",
        "        images = images.reshape(-1, 3, 32, 32).to(device)\n",
        "        images.requires_grad=True\n",
        "        labels = labels.to(device)\n",
        "        \n",
        "        # Forward pass\n",
        "        outputs = my_model(images)\n",
        "        loss = criterion(outputs, labels)\n",
        "\n",
        "        # Backward and optimize\n",
        "\n",
        "        loss.backward()\n",
        "        c =images.grad.sign()\n",
        "        images = images+ 0.01* c\n",
        "        sign.append(c)\n",
        "        l.append((images,labels))"
      ],
      "execution_count": 33,
      "outputs": [
        {
          "output_type": "stream",
          "text": [
            "/usr/local/lib/python3.6/dist-packages/torch/nn/modules/container.py:92: UserWarning: Implicit dimension choice for softmax has been deprecated. Change the call to include dim=X as an argument.\n",
            "  input = module(input)\n"
          ],
          "name": "stderr"
        }
      ]
    },
    {
      "cell_type": "code",
      "metadata": {
        "trusted": true,
        "id": "taLm4VrNPNRH",
        "colab_type": "code",
        "colab": {}
      },
      "source": [
        "im, _ = l[0]\n",
        "im = im.data.cpu().numpy()"
      ],
      "execution_count": 0,
      "outputs": []
    },
    {
      "cell_type": "code",
      "metadata": {
        "trusted": true,
        "id": "5iTY_3WWPNRK",
        "colab_type": "code",
        "colab": {}
      },
      "source": [
        "im = im.reshape(100, 3, 32, 32)"
      ],
      "execution_count": 0,
      "outputs": []
    },
    {
      "cell_type": "code",
      "metadata": {
        "trusted": true,
        "id": "37muVykKPNRN",
        "colab_type": "code",
        "colab": {}
      },
      "source": [
        "import matplotlib.pyplot as plt\n"
      ],
      "execution_count": 0,
      "outputs": []
    },
    {
      "cell_type": "code",
      "metadata": {
        "trusted": true,
        "id": "z3BLTBCXPNRQ",
        "colab_type": "code",
        "colab": {
          "base_uri": "https://localhost:8080/",
          "height": 286
        },
        "outputId": "9ecef8c3-f6d6-4c01-d05f-d95157096792"
      },
      "source": [
        "plt.imshow(im[2, 0, :, :])"
      ],
      "execution_count": 39,
      "outputs": [
        {
          "output_type": "execute_result",
          "data": {
            "text/plain": [
              "<matplotlib.image.AxesImage at 0x7f4c7e1ccef0>"
            ]
          },
          "metadata": {
            "tags": []
          },
          "execution_count": 39
        },
        {
          "output_type": "display_data",
          "data": {
            "image/png": "[encoded data removed]",
            "text/plain": [
              "<Figure size 432x288 with 1 Axes>"
            ]
          },
          "metadata": {
            "tags": []
          }
        }
      ]
    },
    {
      "cell_type": "code",
      "metadata": {
        "trusted": true,
        "id": "iDKMQNCWPNRT",
        "colab_type": "code",
        "colab": {
          "base_uri": "https://localhost:8080/",
          "height": 88
        },
        "outputId": "c9a3fff8-b779-45d8-98d3-beb7ea75b3e7"
      },
      "source": [
        "with torch.no_grad():\n",
        "    correct = 0\n",
        "    total = 0\n",
        "    for images, labels in l:\n",
        "        images = images.reshape(-1, 3, 32, 32).to(device)\n",
        "        labels = labels.to(device)\n",
        "        outputs = my_model(images)\n",
        "        _, predicted = torch.max(outputs.data, 1)\n",
        "        total += labels.size(0)\n",
        "        correct += (predicted == labels).sum().item()\n",
        "\n",
        "    print('Accuracy of the network on the 10000 test images: {} %'.format(100 * correct / total))"
      ],
      "execution_count": 41,
      "outputs": [
        {
          "output_type": "stream",
          "text": [
            "/usr/local/lib/python3.6/dist-packages/torch/nn/modules/container.py:92: UserWarning: Implicit dimension choice for softmax has been deprecated. Change the call to include dim=X as an argument.\n",
            "  input = module(input)\n"
          ],
          "name": "stderr"
        },
        {
          "output_type": "stream",
          "text": [
            "Accuracy of the network on the 10000 test images: 48.88 %\n"
          ],
          "name": "stdout"
        }
      ]
    },
    {
      "cell_type": "code",
      "metadata": {
        "trusted": true,
        "id": "iv6zlWjxPNRW",
        "colab_type": "code",
        "colab": {}
      },
      "source": [
        ""
      ],
      "execution_count": 0,
      "outputs": []
    }
  ]
}