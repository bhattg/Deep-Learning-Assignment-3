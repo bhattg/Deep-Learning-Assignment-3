{
 "cells": [
  {
   "cell_type": "code",
   "execution_count": 0,
   "metadata": {
    "_cell_guid": "b1076dfc-b9ad-4769-8c92-a6c4dae69d19",
    "_uuid": "8f2839f25d086af736a60e9eeb907d3b93b6e0e5",
    "colab": {
     "base_uri": "https://localhost:8080/",
     "height": 50
    },
    "colab_type": "code",
    "id": "SJ8S6JTYPNQq",
    "outputId": "8b7ccca7-96bf-42b9-8710-6f7c5011543f"
   },
   "outputs": [
    {
     "name": "stderr",
     "output_type": "stream",
     "text": [
      "  0%|          | 0/170498071 [00:00<?, ?it/s]"
     ]
    },
    {
     "name": "stdout",
     "output_type": "stream",
     "text": [
      "Downloading https://www.cs.toronto.edu/~kriz/cifar-10-python.tar.gz to ../../data/cifar-10-python.tar.gz\n"
     ]
    },
    {
     "name": "stderr",
     "output_type": "stream",
     "text": [
      "100%|█████████▉| 169779200/170498071 [00:10<00:00, 15296317.52it/s]"
     ]
    }
   ],
   "source": [
    "import torch\n",
    "import torch.nn as nn\n",
    "import torchvision\n",
    "import torchvision.transforms as transforms\n",
    "import numpy as np\n",
    "\n",
    "\n",
    "# Device configuration\n",
    "device = torch.device('cuda' if torch.cuda.is_available() else 'cpu')\n",
    "\n",
    "# Hyper-parameters\n",
    "input_size = 1024*3\n",
    "hidden_size = 500\n",
    "num_classes = 10\n",
    "num_epochs = 100\n",
    "batch_size = 100\n",
    "learning_rate = 0.001\n",
    "\n",
    "# MNIST dataset \n",
    "train_dataset = torchvision.datasets.CIFAR10(root='../../data',        \n",
    "                                           train=True, \n",
    "                                           transform=transforms.ToTensor(),  \n",
    "                                           download=True)\n",
    "\n",
    "test_dataset = torchvision.datasets.CIFAR10(root='../../data', \n",
    "                                          train=False, \n",
    "                                          transform=transforms.ToTensor())\n",
    "\n",
    "# Data loader\n",
    "train_loader = torch.utils.data.DataLoader(dataset=train_dataset, \n",
    "                                           batch_size=batch_size, \n",
    "                                           shuffle=True)\n",
    "\n",
    "test_loader = torch.utils.data.DataLoader(dataset=test_dataset, \n",
    "                                          batch_size=batch_size, \n",
    "                                          shuffle=False)"
   ]
  },
  {
   "cell_type": "code",
   "execution_count": 0,
   "metadata": {
    "colab": {
     "base_uri": "https://localhost:8080/",
     "height": 625
    },
    "colab_type": "code",
    "id": "Q0Rje5ZxPNQ0",
    "outputId": "fa656dff-d9c6-4d92-9fbc-a6573fdc5378"
   },
   "outputs": [
    {
     "name": "stderr",
     "output_type": "stream",
     "text": [
      "\r",
      "170500096it [00:29, 15296317.52it/s]                               "
     ]
    },
    {
     "name": "stdout",
     "output_type": "stream",
     "text": [
      "----------------------------------------------------------------\n",
      "        Layer (type)               Output Shape         Param #\n",
      "================================================================\n",
      "         ZeroPad2d-1            [-1, 3, 36, 36]               0\n",
      "            Conv2d-2           [-1, 32, 30, 30]           4,704\n",
      "       BatchNorm2d-3           [-1, 32, 30, 30]              64\n",
      "         MaxPool2d-4           [-1, 32, 15, 15]               0\n",
      "              ReLU-5           [-1, 32, 15, 15]               0\n",
      "            Conv2d-6           [-1, 64, 11, 11]          51,200\n",
      "       BatchNorm2d-7           [-1, 64, 11, 11]             128\n",
      "              ReLU-8           [-1, 64, 11, 11]               0\n",
      "            Conv2d-9            [-1, 128, 9, 9]          73,728\n",
      "      BatchNorm2d-10            [-1, 128, 9, 9]             256\n",
      "        MaxPool2d-11            [-1, 128, 4, 4]               0\n",
      "             ReLU-12            [-1, 128, 4, 4]               0\n",
      "           Conv2d-13            [-1, 200, 2, 2]         230,400\n",
      "      BatchNorm2d-14            [-1, 200, 2, 2]             400\n",
      "             ReLU-15            [-1, 200, 2, 2]               0\n",
      "           Linear-16                  [-1, 512]         410,112\n",
      "             ReLU-17                  [-1, 512]               0\n",
      "          Dropout-18                  [-1, 512]               0\n",
      "           Linear-19                   [-1, 10]           5,130\n",
      "          Softmax-20                   [-1, 10]               0\n",
      "================================================================\n",
      "Total params: 776,122\n",
      "Trainable params: 776,122\n",
      "Non-trainable params: 0\n",
      "----------------------------------------------------------------\n",
      "Input size (MB): 0.01\n",
      "Forward/backward pass size (MB): 0.98\n",
      "Params size (MB): 2.96\n",
      "Estimated Total Size (MB): 3.95\n",
      "----------------------------------------------------------------\n"
     ]
    },
    {
     "name": "stderr",
     "output_type": "stream",
     "text": [
      "/usr/local/lib/python3.6/dist-packages/torch/nn/modules/container.py:92: UserWarning: Implicit dimension choice for softmax has been deprecated. Change the call to include dim=X as an argument.\n",
      "  input = module(input)\n"
     ]
    }
   ],
   "source": [
    "import torch\n",
    "import torch.nn as nn\n",
    "from torchsummary import summary\n",
    "\n",
    "class CIFAR10(nn.Module):\n",
    "    def __init__(self):\n",
    "        super(CIFAR10, self).__init__()\n",
    "        self.pad1 = nn.ZeroPad2d((2, 2, 2, 2))\n",
    "        \n",
    "        self.layer1 = nn.Sequential(\n",
    "        nn.Conv2d(in_channels=3, out_channels=32, kernel_size=(7, 7), stride=(1, 1), bias=False), \n",
    "        nn.BatchNorm2d(num_features=32),\n",
    "        nn.MaxPool2d(kernel_size=(2,2)),\n",
    "        nn.ReLU()\n",
    "        )\n",
    "    \n",
    "        self.layer2 = nn.Sequential(\n",
    "        nn.Conv2d(in_channels=32, out_channels=64, kernel_size=(5, 5), stride=(1, 1), bias=False), \n",
    "        nn.BatchNorm2d(num_features=64),\n",
    "        nn.ReLU()\n",
    "        )\n",
    "        \n",
    "        self.layer3 = nn.Sequential(\n",
    "        nn.Conv2d(in_channels=64, out_channels=128, kernel_size=(3, 3), stride=(1, 1), bias=False), \n",
    "        nn.BatchNorm2d(num_features=128),\n",
    "        nn.MaxPool2d(kernel_size=(2, 2)),\n",
    "        nn.ReLU()\n",
    "        )\n",
    "\n",
    "        self.layer4 = nn.Sequential(\n",
    "        nn.Conv2d(in_channels=128, out_channels=200, kernel_size=(3, 3), stride=(1, 1), bias=False), \n",
    "        nn.BatchNorm2d(num_features=200),\n",
    "        nn.ReLU()\n",
    "        )\n",
    "\n",
    "        self.fc1 = nn.Sequential(\n",
    "        nn.Linear(in_features=800, out_features=512),\n",
    "        nn.ReLU()\n",
    "        )\n",
    "\n",
    "        self.dropout1 = nn.Dropout(p=0.2)\n",
    "        \n",
    "        self.fc2 = nn.Sequential(\n",
    "        nn.Linear(in_features=512, out_features=10),\n",
    "        nn.Softmax()\n",
    "        )\n",
    "        \n",
    "    def forward(self, x):\n",
    "        x = self.pad1(x)\n",
    "        x = self.layer1(x)\n",
    "        x = self.layer2(x)\n",
    "        x = self.layer3(x)\n",
    "        x = self.layer4(x)\n",
    "        x = x.reshape(x.shape[0], -1)\n",
    "        x = self.fc1(x)\n",
    "        x = self.dropout1(x)\n",
    "        out = self.fc2(x)\n",
    "        \n",
    "        return out\n",
    "      \n",
    "my_model = CIFAR10().to(device)\n",
    "summary(my_model, input_size=(3, 32, 32))  "
   ]
  },
  {
   "cell_type": "code",
   "execution_count": 0,
   "metadata": {
    "colab": {
     "base_uri": "https://localhost:8080/",
     "height": 34
    },
    "colab_type": "code",
    "id": "RBXh4MbqPNQ3",
    "outputId": "e3d0f0ba-6453-49b6-dbe3-e22589205c34"
   },
   "outputs": [
    {
     "name": "stdout",
     "output_type": "stream",
     "text": [
      "Learning rate:  0.001\n"
     ]
    }
   ],
   "source": [
    "my_model = CIFAR10().to(device)\n",
    "criterion = nn.CrossEntropyLoss()\n",
    "optimizer = torch.optim.Adam(my_model.parameters(), lr=0.01) \n",
    "print(\"Learning rate: \", learning_rate)"
   ]
  },
  {
   "cell_type": "code",
   "execution_count": 0,
   "metadata": {
    "colab": {
     "base_uri": "https://localhost:8080/",
     "height": 8470
    },
    "colab_type": "code",
    "id": "WGQh_h2CPNQ6",
    "outputId": "5ad17307-6255-4f29-b4d3-1761186b9787"
   },
   "outputs": [
    {
     "name": "stderr",
     "output_type": "stream",
     "text": [
      "/usr/local/lib/python3.6/dist-packages/torch/nn/modules/container.py:92: UserWarning: Implicit dimension choice for softmax has been deprecated. Change the call to include dim=X as an argument.\n",
      "  input = module(input)\n"
     ]
    },
    {
     "name": "stdout",
     "output_type": "stream",
     "text": [
      "Epoch [1/100], Step [100/500], Loss: 2.1310\n",
      "Epoch [1/100], Step [200/500], Loss: 2.2213\n",
      "Epoch [1/100], Step [300/500], Loss: 2.1724\n",
      "Epoch [1/100], Step [400/500], Loss: 2.1313\n",
      "Epoch [1/100], Step [500/500], Loss: 2.2270\n",
      "Epoch [2/100], Step [100/500], Loss: 2.2110\n",
      "Epoch [2/100], Step [200/500], Loss: 2.0950\n",
      "Epoch [2/100], Step [300/500], Loss: 2.1802\n",
      "Epoch [2/100], Step [400/500], Loss: 2.2682\n",
      "Epoch [2/100], Step [500/500], Loss: 2.2088\n",
      "Epoch [3/100], Step [100/500], Loss: 2.1941\n",
      "Epoch [3/100], Step [200/500], Loss: 2.2702\n",
      "Epoch [3/100], Step [300/500], Loss: 2.2306\n",
      "Epoch [3/100], Step [400/500], Loss: 2.2409\n",
      "Epoch [3/100], Step [500/500], Loss: 2.1511\n",
      "Epoch [4/100], Step [100/500], Loss: 2.1820\n",
      "Epoch [4/100], Step [200/500], Loss: 2.1435\n",
      "Epoch [4/100], Step [300/500], Loss: 2.1804\n",
      "Epoch [4/100], Step [400/500], Loss: 2.1512\n",
      "Epoch [4/100], Step [500/500], Loss: 2.2217\n",
      "Epoch [5/100], Step [100/500], Loss: 2.1396\n",
      "Epoch [5/100], Step [200/500], Loss: 2.1739\n",
      "Epoch [5/100], Step [300/500], Loss: 2.2605\n",
      "Epoch [5/100], Step [400/500], Loss: 2.2307\n",
      "Epoch [5/100], Step [500/500], Loss: 2.1811\n",
      "Epoch [6/100], Step [100/500], Loss: 2.1653\n",
      "Epoch [6/100], Step [200/500], Loss: 2.1998\n",
      "Epoch [6/100], Step [300/500], Loss: 2.2211\n",
      "Epoch [6/100], Step [400/500], Loss: 2.1811\n",
      "Epoch [6/100], Step [500/500], Loss: 2.2673\n",
      "Epoch [7/100], Step [100/500], Loss: 2.2512\n",
      "Epoch [7/100], Step [200/500], Loss: 2.2506\n",
      "Epoch [7/100], Step [300/500], Loss: 2.1611\n",
      "Epoch [7/100], Step [400/500], Loss: 2.1812\n",
      "Epoch [7/100], Step [500/500], Loss: 2.1808\n",
      "Epoch [8/100], Step [100/500], Loss: 2.1812\n",
      "Epoch [8/100], Step [200/500], Loss: 2.0910\n",
      "Epoch [8/100], Step [300/500], Loss: 2.0809\n",
      "Epoch [8/100], Step [400/500], Loss: 2.1414\n",
      "Epoch [8/100], Step [500/500], Loss: 2.1512\n",
      "Epoch [9/100], Step [100/500], Loss: 2.2611\n",
      "Epoch [9/100], Step [200/500], Loss: 2.1614\n",
      "Epoch [9/100], Step [300/500], Loss: 2.2511\n",
      "Epoch [9/100], Step [400/500], Loss: 2.2010\n",
      "Epoch [9/100], Step [500/500], Loss: 2.1712\n",
      "Epoch [10/100], Step [100/500], Loss: 2.1909\n",
      "Epoch [10/100], Step [200/500], Loss: 2.1810\n",
      "Epoch [10/100], Step [300/500], Loss: 2.1712\n",
      "Epoch [10/100], Step [400/500], Loss: 2.2009\n",
      "Epoch [10/100], Step [500/500], Loss: 2.3111\n",
      "Epoch [11/100], Step [100/500], Loss: 2.2711\n",
      "Epoch [11/100], Step [200/500], Loss: 2.1232\n",
      "Epoch [11/100], Step [300/500], Loss: 2.1705\n",
      "Epoch [11/100], Step [400/500], Loss: 2.2112\n",
      "Epoch [11/100], Step [500/500], Loss: 2.1612\n",
      "Epoch [12/100], Step [100/500], Loss: 2.1812\n",
      "Epoch [12/100], Step [200/500], Loss: 2.2611\n",
      "Epoch [12/100], Step [300/500], Loss: 2.2206\n",
      "Epoch [12/100], Step [400/500], Loss: 2.2111\n",
      "Epoch [12/100], Step [500/500], Loss: 2.1312\n",
      "Epoch [13/100], Step [100/500], Loss: 2.2211\n",
      "Epoch [13/100], Step [200/500], Loss: 2.1712\n",
      "Epoch [13/100], Step [300/500], Loss: 2.3112\n",
      "Epoch [13/100], Step [400/500], Loss: 2.1512\n",
      "Epoch [13/100], Step [500/500], Loss: 2.2211\n",
      "Epoch [14/100], Step [100/500], Loss: 2.2012\n",
      "Epoch [14/100], Step [200/500], Loss: 2.2312\n",
      "Epoch [14/100], Step [300/500], Loss: 2.2112\n",
      "Epoch [14/100], Step [400/500], Loss: 2.1712\n",
      "Epoch [14/100], Step [500/500], Loss: 2.2511\n",
      "Epoch [15/100], Step [100/500], Loss: 2.1909\n",
      "Epoch [15/100], Step [200/500], Loss: 2.2510\n",
      "Epoch [15/100], Step [300/500], Loss: 2.2911\n",
      "Epoch [15/100], Step [400/500], Loss: 2.1611\n",
      "Epoch [15/100], Step [500/500], Loss: 2.2812\n",
      "Epoch [16/100], Step [100/500], Loss: 2.2459\n",
      "Epoch [16/100], Step [200/500], Loss: 2.2712\n",
      "Epoch [16/100], Step [300/500], Loss: 2.1911\n",
      "Epoch [16/100], Step [400/500], Loss: 2.2209\n",
      "Epoch [16/100], Step [500/500], Loss: 2.0908\n",
      "Epoch [17/100], Step [100/500], Loss: 2.2812\n",
      "Epoch [17/100], Step [200/500], Loss: 2.1909\n",
      "Epoch [17/100], Step [300/500], Loss: 2.2012\n",
      "Epoch [17/100], Step [400/500], Loss: 2.2312\n",
      "Epoch [17/100], Step [500/500], Loss: 2.2112\n",
      "Epoch [18/100], Step [100/500], Loss: 2.2212\n",
      "Epoch [18/100], Step [200/500], Loss: 2.2409\n",
      "Epoch [18/100], Step [300/500], Loss: 2.1912\n",
      "Epoch [18/100], Step [400/500], Loss: 2.2312\n",
      "Epoch [18/100], Step [500/500], Loss: 2.2512\n",
      "Epoch [19/100], Step [100/500], Loss: 2.2312\n",
      "Epoch [19/100], Step [200/500], Loss: 2.2812\n",
      "Epoch [19/100], Step [300/500], Loss: 2.2612\n",
      "Epoch [19/100], Step [400/500], Loss: 2.1811\n",
      "Epoch [19/100], Step [500/500], Loss: 2.1898\n",
      "Epoch [20/100], Step [100/500], Loss: 2.1410\n",
      "Epoch [20/100], Step [200/500], Loss: 2.2312\n",
      "Epoch [20/100], Step [300/500], Loss: 2.1852\n",
      "Epoch [20/100], Step [400/500], Loss: 2.1810\n",
      "Epoch [20/100], Step [500/500], Loss: 2.2112\n",
      "Epoch [21/100], Step [100/500], Loss: 2.1221\n",
      "Epoch [21/100], Step [200/500], Loss: 2.2108\n",
      "Epoch [21/100], Step [300/500], Loss: 2.1511\n",
      "Epoch [21/100], Step [400/500], Loss: 2.2012\n",
      "Epoch [21/100], Step [500/500], Loss: 2.2011\n",
      "Epoch [22/100], Step [100/500], Loss: 2.2111\n",
      "Epoch [22/100], Step [200/500], Loss: 2.2612\n",
      "Epoch [22/100], Step [300/500], Loss: 2.2512\n",
      "Epoch [22/100], Step [400/500], Loss: 2.2012\n",
      "Epoch [22/100], Step [500/500], Loss: 2.2312\n",
      "Epoch [23/100], Step [100/500], Loss: 2.1212\n",
      "Epoch [23/100], Step [200/500], Loss: 2.2312\n",
      "Epoch [23/100], Step [300/500], Loss: 2.2312\n",
      "Epoch [23/100], Step [400/500], Loss: 2.1567\n",
      "Epoch [23/100], Step [500/500], Loss: 2.1912\n",
      "Epoch [24/100], Step [100/500], Loss: 2.1911\n",
      "Epoch [24/100], Step [200/500], Loss: 2.1711\n",
      "Epoch [24/100], Step [300/500], Loss: 2.1450\n",
      "Epoch [24/100], Step [400/500], Loss: 2.1812\n",
      "Epoch [24/100], Step [500/500], Loss: 2.1812\n",
      "Epoch [25/100], Step [100/500], Loss: 2.1712\n",
      "Epoch [25/100], Step [200/500], Loss: 2.1912\n",
      "Epoch [25/100], Step [300/500], Loss: 2.1709\n",
      "Epoch [25/100], Step [400/500], Loss: 2.1512\n",
      "Epoch [25/100], Step [500/500], Loss: 2.2709\n",
      "Epoch [26/100], Step [100/500], Loss: 2.2212\n",
      "Epoch [26/100], Step [200/500], Loss: 2.1812\n",
      "Epoch [26/100], Step [300/500], Loss: 2.2111\n",
      "Epoch [26/100], Step [400/500], Loss: 2.1312\n",
      "Epoch [26/100], Step [500/500], Loss: 2.1211\n",
      "Epoch [27/100], Step [100/500], Loss: 2.2312\n",
      "Epoch [27/100], Step [200/500], Loss: 2.1312\n",
      "Epoch [27/100], Step [300/500], Loss: 2.1611\n",
      "Epoch [27/100], Step [400/500], Loss: 2.2312\n",
      "Epoch [27/100], Step [500/500], Loss: 2.2111\n",
      "Epoch [28/100], Step [100/500], Loss: 2.2612\n",
      "Epoch [28/100], Step [200/500], Loss: 2.3111\n",
      "Epoch [28/100], Step [300/500], Loss: 2.2712\n",
      "Epoch [28/100], Step [400/500], Loss: 2.2611\n",
      "Epoch [28/100], Step [500/500], Loss: 2.2812\n",
      "Epoch [29/100], Step [100/500], Loss: 2.2612\n",
      "Epoch [29/100], Step [200/500], Loss: 2.2201\n",
      "Epoch [29/100], Step [300/500], Loss: 2.1909\n",
      "Epoch [29/100], Step [400/500], Loss: 2.2012\n",
      "Epoch [29/100], Step [500/500], Loss: 2.2009\n",
      "Epoch [30/100], Step [100/500], Loss: 2.1912\n",
      "Epoch [30/100], Step [200/500], Loss: 2.2511\n",
      "Epoch [30/100], Step [300/500], Loss: 2.1812\n",
      "Epoch [30/100], Step [400/500], Loss: 2.2912\n",
      "Epoch [30/100], Step [500/500], Loss: 2.2412\n",
      "Epoch [31/100], Step [100/500], Loss: 2.2212\n",
      "Epoch [31/100], Step [200/500], Loss: 2.1311\n",
      "Epoch [31/100], Step [300/500], Loss: 2.1412\n",
      "Epoch [31/100], Step [400/500], Loss: 2.2412\n",
      "Epoch [31/100], Step [500/500], Loss: 2.2812\n",
      "Epoch [32/100], Step [100/500], Loss: 2.2012\n",
      "Epoch [32/100], Step [200/500], Loss: 2.1412\n",
      "Epoch [32/100], Step [300/500], Loss: 2.1612\n",
      "Epoch [32/100], Step [400/500], Loss: 2.2312\n",
      "Epoch [32/100], Step [500/500], Loss: 2.1612\n",
      "Epoch [33/100], Step [100/500], Loss: 2.1812\n",
      "Epoch [33/100], Step [200/500], Loss: 2.2112\n",
      "Epoch [33/100], Step [300/500], Loss: 2.2512\n",
      "Epoch [33/100], Step [400/500], Loss: 2.1612\n",
      "Epoch [33/100], Step [500/500], Loss: 2.2411\n",
      "Epoch [34/100], Step [100/500], Loss: 2.2010\n",
      "Epoch [34/100], Step [200/500], Loss: 2.2612\n",
      "Epoch [34/100], Step [300/500], Loss: 2.1812\n",
      "Epoch [34/100], Step [400/500], Loss: 2.1811\n",
      "Epoch [34/100], Step [500/500], Loss: 2.1412\n",
      "Epoch [35/100], Step [100/500], Loss: 2.2134\n",
      "Epoch [35/100], Step [200/500], Loss: 2.2412\n",
      "Epoch [35/100], Step [300/500], Loss: 2.1511\n",
      "Epoch [35/100], Step [400/500], Loss: 2.1912\n",
      "Epoch [35/100], Step [500/500], Loss: 2.2512\n",
      "Epoch [36/100], Step [100/500], Loss: 2.2311\n",
      "Epoch [36/100], Step [200/500], Loss: 2.2511\n",
      "Epoch [36/100], Step [300/500], Loss: 2.0912\n",
      "Epoch [36/100], Step [400/500], Loss: 2.2712\n",
      "Epoch [36/100], Step [500/500], Loss: 2.1412\n",
      "Epoch [37/100], Step [100/500], Loss: 2.2412\n",
      "Epoch [37/100], Step [200/500], Loss: 2.2112\n",
      "Epoch [37/100], Step [300/500], Loss: 2.2312\n",
      "Epoch [37/100], Step [400/500], Loss: 2.2012\n",
      "Epoch [37/100], Step [500/500], Loss: 2.1808\n",
      "Epoch [38/100], Step [100/500], Loss: 2.2212\n",
      "Epoch [38/100], Step [200/500], Loss: 2.1811\n",
      "Epoch [38/100], Step [300/500], Loss: 2.1612\n",
      "Epoch [38/100], Step [400/500], Loss: 2.2212\n",
      "Epoch [38/100], Step [500/500], Loss: 2.1812\n",
      "Epoch [39/100], Step [100/500], Loss: 2.1808\n",
      "Epoch [39/100], Step [200/500], Loss: 2.2712\n",
      "Epoch [39/100], Step [300/500], Loss: 2.2408\n",
      "Epoch [39/100], Step [400/500], Loss: 2.1812\n",
      "Epoch [39/100], Step [500/500], Loss: 2.1912\n",
      "Epoch [40/100], Step [100/500], Loss: 2.1912\n",
      "Epoch [40/100], Step [200/500], Loss: 2.1914\n",
      "Epoch [40/100], Step [300/500], Loss: 2.2012\n",
      "Epoch [40/100], Step [400/500], Loss: 2.2364\n",
      "Epoch [40/100], Step [500/500], Loss: 2.2112\n",
      "Epoch [41/100], Step [100/500], Loss: 2.2309\n",
      "Epoch [41/100], Step [200/500], Loss: 2.1912\n",
      "Epoch [41/100], Step [300/500], Loss: 2.1909\n",
      "Epoch [41/100], Step [400/500], Loss: 2.2012\n",
      "Epoch [41/100], Step [500/500], Loss: 2.2110\n",
      "Epoch [42/100], Step [100/500], Loss: 2.1911\n",
      "Epoch [42/100], Step [200/500], Loss: 2.2212\n",
      "Epoch [42/100], Step [300/500], Loss: 2.2711\n",
      "Epoch [42/100], Step [400/500], Loss: 2.2312\n",
      "Epoch [42/100], Step [500/500], Loss: 2.1209\n",
      "Epoch [43/100], Step [100/500], Loss: 2.2412\n",
      "Epoch [43/100], Step [200/500], Loss: 2.1708\n",
      "Epoch [43/100], Step [300/500], Loss: 2.1807\n",
      "Epoch [43/100], Step [400/500], Loss: 2.1812\n",
      "Epoch [43/100], Step [500/500], Loss: 2.1012\n",
      "Epoch [44/100], Step [100/500], Loss: 2.1612\n",
      "Epoch [44/100], Step [200/500], Loss: 2.1312\n",
      "Epoch [44/100], Step [300/500], Loss: 2.1812\n",
      "Epoch [44/100], Step [400/500], Loss: 2.1612\n",
      "Epoch [44/100], Step [500/500], Loss: 2.1612\n",
      "Epoch [45/100], Step [100/500], Loss: 2.2311\n",
      "Epoch [45/100], Step [200/500], Loss: 2.2012\n",
      "Epoch [45/100], Step [300/500], Loss: 2.1411\n",
      "Epoch [45/100], Step [400/500], Loss: 2.2512\n",
      "Epoch [45/100], Step [500/500], Loss: 2.2412\n",
      "Epoch [46/100], Step [100/500], Loss: 2.2212\n",
      "Epoch [46/100], Step [200/500], Loss: 2.2512\n",
      "Epoch [46/100], Step [300/500], Loss: 2.2812\n",
      "Epoch [46/100], Step [400/500], Loss: 2.2411\n",
      "Epoch [46/100], Step [500/500], Loss: 2.2712\n",
      "Epoch [47/100], Step [100/500], Loss: 2.2310\n",
      "Epoch [47/100], Step [200/500], Loss: 2.2212\n",
      "Epoch [47/100], Step [300/500], Loss: 2.2012\n",
      "Epoch [47/100], Step [400/500], Loss: 2.2512\n",
      "Epoch [47/100], Step [500/500], Loss: 2.1812\n",
      "Epoch [48/100], Step [100/500], Loss: 2.1412\n",
      "Epoch [48/100], Step [200/500], Loss: 2.1112\n",
      "Epoch [48/100], Step [300/500], Loss: 2.2112\n",
      "Epoch [48/100], Step [400/500], Loss: 2.2112\n",
      "Epoch [48/100], Step [500/500], Loss: 2.1512\n",
      "Epoch [49/100], Step [100/500], Loss: 2.1812\n",
      "Epoch [49/100], Step [200/500], Loss: 2.1812\n",
      "Epoch [49/100], Step [300/500], Loss: 2.3212\n",
      "Epoch [49/100], Step [400/500], Loss: 2.1811\n",
      "Epoch [49/100], Step [500/500], Loss: 2.1911\n",
      "Epoch [50/100], Step [100/500], Loss: 2.2312\n",
      "Epoch [50/100], Step [200/500], Loss: 2.2612\n",
      "Epoch [50/100], Step [300/500], Loss: 2.3312\n",
      "Epoch [50/100], Step [400/500], Loss: 2.2612\n",
      "Epoch [50/100], Step [500/500], Loss: 2.1712\n",
      "Epoch [51/100], Step [100/500], Loss: 2.1711\n",
      "Epoch [51/100], Step [200/500], Loss: 2.1812\n",
      "Epoch [51/100], Step [300/500], Loss: 2.1911\n",
      "Epoch [51/100], Step [400/500], Loss: 2.2112\n",
      "Epoch [51/100], Step [500/500], Loss: 2.1212\n",
      "Epoch [52/100], Step [100/500], Loss: 2.1712\n",
      "Epoch [52/100], Step [200/500], Loss: 2.1509\n",
      "Epoch [52/100], Step [300/500], Loss: 2.1312\n",
      "Epoch [52/100], Step [400/500], Loss: 2.1312\n",
      "Epoch [52/100], Step [500/500], Loss: 2.1412\n",
      "Epoch [53/100], Step [100/500], Loss: 2.1412\n",
      "Epoch [53/100], Step [200/500], Loss: 2.1712\n",
      "Epoch [53/100], Step [300/500], Loss: 2.1812\n",
      "Epoch [53/100], Step [400/500], Loss: 2.1412\n",
      "Epoch [53/100], Step [500/500], Loss: 2.1912\n",
      "Epoch [54/100], Step [100/500], Loss: 2.1512\n",
      "Epoch [54/100], Step [200/500], Loss: 2.1411\n",
      "Epoch [54/100], Step [300/500], Loss: 2.1109\n",
      "Epoch [54/100], Step [400/500], Loss: 2.1512\n",
      "Epoch [54/100], Step [500/500], Loss: 2.1603\n",
      "Epoch [55/100], Step [100/500], Loss: 2.1512\n",
      "Epoch [55/100], Step [200/500], Loss: 2.1609\n",
      "Epoch [55/100], Step [300/500], Loss: 2.1612\n",
      "Epoch [55/100], Step [400/500], Loss: 2.1409\n",
      "Epoch [55/100], Step [500/500], Loss: 2.2012\n",
      "Epoch [56/100], Step [100/500], Loss: 2.1812\n",
      "Epoch [56/100], Step [200/500], Loss: 2.1812\n",
      "Epoch [56/100], Step [300/500], Loss: 2.2012\n",
      "Epoch [56/100], Step [400/500], Loss: 2.2512\n",
      "Epoch [56/100], Step [500/500], Loss: 2.2212\n",
      "Epoch [57/100], Step [100/500], Loss: 2.2011\n",
      "Epoch [57/100], Step [200/500], Loss: 2.2212\n",
      "Epoch [57/100], Step [300/500], Loss: 2.1212\n",
      "Epoch [57/100], Step [400/500], Loss: 2.1312\n",
      "Epoch [57/100], Step [500/500], Loss: 2.2012\n",
      "Epoch [58/100], Step [100/500], Loss: 2.1712\n",
      "Epoch [58/100], Step [200/500], Loss: 2.1611\n",
      "Epoch [58/100], Step [300/500], Loss: 2.1911\n",
      "Epoch [58/100], Step [400/500], Loss: 2.1112\n",
      "Epoch [58/100], Step [500/500], Loss: 2.2912\n",
      "Epoch [59/100], Step [100/500], Loss: 2.1312\n",
      "Epoch [59/100], Step [200/500], Loss: 2.0912\n",
      "Epoch [59/100], Step [300/500], Loss: 2.1911\n",
      "Epoch [59/100], Step [400/500], Loss: 2.2312\n",
      "Epoch [59/100], Step [500/500], Loss: 2.2112\n",
      "Epoch [60/100], Step [100/500], Loss: 2.1908\n",
      "Epoch [60/100], Step [200/500], Loss: 2.1612\n",
      "Epoch [60/100], Step [300/500], Loss: 2.1512\n",
      "Epoch [60/100], Step [400/500], Loss: 2.1512\n",
      "Epoch [60/100], Step [500/500], Loss: 2.2212\n",
      "Epoch [61/100], Step [100/500], Loss: 2.1512\n",
      "Epoch [61/100], Step [200/500], Loss: 2.2110\n",
      "Epoch [61/100], Step [300/500], Loss: 2.1912\n",
      "Epoch [61/100], Step [400/500], Loss: 2.1912\n",
      "Epoch [61/100], Step [500/500], Loss: 2.1712\n",
      "Epoch [62/100], Step [100/500], Loss: 2.2011\n",
      "Epoch [62/100], Step [200/500], Loss: 2.0912\n",
      "Epoch [62/100], Step [300/500], Loss: 2.2312\n",
      "Epoch [62/100], Step [400/500], Loss: 2.2612\n",
      "Epoch [62/100], Step [500/500], Loss: 2.2012\n",
      "Epoch [63/100], Step [100/500], Loss: 2.1412\n",
      "Epoch [63/100], Step [200/500], Loss: 2.1712\n",
      "Epoch [63/100], Step [300/500], Loss: 2.2712\n",
      "Epoch [63/100], Step [400/500], Loss: 2.2212\n",
      "Epoch [63/100], Step [500/500], Loss: 2.1912\n",
      "Epoch [64/100], Step [100/500], Loss: 2.2812\n",
      "Epoch [64/100], Step [200/500], Loss: 2.2112\n",
      "Epoch [64/100], Step [300/500], Loss: 2.2211\n",
      "Epoch [64/100], Step [400/500], Loss: 2.2712\n",
      "Epoch [64/100], Step [500/500], Loss: 2.1612\n",
      "Epoch [65/100], Step [100/500], Loss: 2.1912\n",
      "Epoch [65/100], Step [200/500], Loss: 2.2012\n",
      "Epoch [65/100], Step [300/500], Loss: 2.1912\n",
      "Epoch [65/100], Step [400/500], Loss: 2.2612\n",
      "Epoch [65/100], Step [500/500], Loss: 2.1912\n",
      "Epoch [66/100], Step [100/500], Loss: 2.2612\n",
      "Epoch [66/100], Step [200/500], Loss: 2.2312\n",
      "Epoch [66/100], Step [300/500], Loss: 2.2112\n",
      "Epoch [66/100], Step [400/500], Loss: 2.2412\n",
      "Epoch [66/100], Step [500/500], Loss: 2.2512\n",
      "Epoch [67/100], Step [100/500], Loss: 2.2312\n",
      "Epoch [67/100], Step [200/500], Loss: 2.2112\n",
      "Epoch [67/100], Step [300/500], Loss: 2.2012\n",
      "Epoch [67/100], Step [400/500], Loss: 2.2212\n",
      "Epoch [67/100], Step [500/500], Loss: 2.2012\n",
      "Epoch [68/100], Step [100/500], Loss: 2.3112\n",
      "Epoch [68/100], Step [200/500], Loss: 2.2512\n",
      "Epoch [68/100], Step [300/500], Loss: 2.2512\n",
      "Epoch [68/100], Step [400/500], Loss: 2.1112\n",
      "Epoch [68/100], Step [500/500], Loss: 2.1712\n",
      "Epoch [69/100], Step [100/500], Loss: 2.2612\n",
      "Epoch [69/100], Step [200/500], Loss: 2.2211\n",
      "Epoch [69/100], Step [300/500], Loss: 2.1912\n",
      "Epoch [69/100], Step [400/500], Loss: 2.3012\n",
      "Epoch [69/100], Step [500/500], Loss: 2.2212\n",
      "Epoch [70/100], Step [100/500], Loss: 2.2312\n",
      "Epoch [70/100], Step [200/500], Loss: 2.2112\n",
      "Epoch [70/100], Step [300/500], Loss: 2.2612\n",
      "Epoch [70/100], Step [400/500], Loss: 2.2312\n",
      "Epoch [70/100], Step [500/500], Loss: 2.2211\n",
      "Epoch [71/100], Step [100/500], Loss: 2.2212\n",
      "Epoch [71/100], Step [200/500], Loss: 2.2912\n",
      "Epoch [71/100], Step [300/500], Loss: 2.2912\n",
      "Epoch [71/100], Step [400/500], Loss: 2.2012\n",
      "Epoch [71/100], Step [500/500], Loss: 2.2712\n",
      "Epoch [72/100], Step [100/500], Loss: 2.1712\n",
      "Epoch [72/100], Step [200/500], Loss: 2.2212\n",
      "Epoch [72/100], Step [300/500], Loss: 2.1812\n",
      "Epoch [72/100], Step [400/500], Loss: 2.2012\n",
      "Epoch [72/100], Step [500/500], Loss: 2.1512\n",
      "Epoch [73/100], Step [100/500], Loss: 2.2412\n",
      "Epoch [73/100], Step [200/500], Loss: 2.2212\n",
      "Epoch [73/100], Step [300/500], Loss: 2.2212\n",
      "Epoch [73/100], Step [400/500], Loss: 2.2012\n",
      "Epoch [73/100], Step [500/500], Loss: 2.2312\n",
      "Epoch [74/100], Step [100/500], Loss: 2.2412\n",
      "Epoch [74/100], Step [200/500], Loss: 2.1012\n",
      "Epoch [74/100], Step [300/500], Loss: 2.2212\n",
      "Epoch [74/100], Step [400/500], Loss: 2.2312\n",
      "Epoch [74/100], Step [500/500], Loss: 2.1812\n",
      "Epoch [75/100], Step [100/500], Loss: 2.1912\n",
      "Epoch [75/100], Step [200/500], Loss: 2.2712\n",
      "Epoch [75/100], Step [300/500], Loss: 2.2212\n",
      "Epoch [75/100], Step [400/500], Loss: 2.2212\n",
      "Epoch [75/100], Step [500/500], Loss: 2.1812\n",
      "Epoch [76/100], Step [100/500], Loss: 2.2109\n",
      "Epoch [76/100], Step [200/500], Loss: 2.1812\n",
      "Epoch [76/100], Step [300/500], Loss: 2.1412\n",
      "Epoch [76/100], Step [400/500], Loss: 2.1312\n",
      "Epoch [76/100], Step [500/500], Loss: 2.2412\n",
      "Epoch [77/100], Step [100/500], Loss: 2.1012\n",
      "Epoch [77/100], Step [200/500], Loss: 2.1312\n",
      "Epoch [77/100], Step [300/500], Loss: 2.1812\n",
      "Epoch [77/100], Step [400/500], Loss: 2.1012\n",
      "Epoch [77/100], Step [500/500], Loss: 2.1812\n",
      "Epoch [78/100], Step [100/500], Loss: 2.1412\n",
      "Epoch [78/100], Step [200/500], Loss: 2.2112\n",
      "Epoch [78/100], Step [300/500], Loss: 2.1312\n",
      "Epoch [78/100], Step [400/500], Loss: 2.2412\n",
      "Epoch [78/100], Step [500/500], Loss: 2.1712\n",
      "Epoch [79/100], Step [100/500], Loss: 2.2412\n",
      "Epoch [79/100], Step [200/500], Loss: 2.3212\n",
      "Epoch [79/100], Step [300/500], Loss: 2.2411\n",
      "Epoch [79/100], Step [400/500], Loss: 2.1809\n",
      "Epoch [79/100], Step [500/500], Loss: 2.2012\n",
      "Epoch [80/100], Step [100/500], Loss: 2.3412\n",
      "Epoch [80/100], Step [200/500], Loss: 2.2511\n",
      "Epoch [80/100], Step [300/500], Loss: 2.2912\n",
      "Epoch [80/100], Step [400/500], Loss: 2.2012\n",
      "Epoch [80/100], Step [500/500], Loss: 2.2412\n",
      "Epoch [81/100], Step [100/500], Loss: 2.2712\n",
      "Epoch [81/100], Step [200/500], Loss: 2.1812\n",
      "Epoch [81/100], Step [300/500], Loss: 2.2412\n",
      "Epoch [81/100], Step [400/500], Loss: 2.2912\n",
      "Epoch [81/100], Step [500/500], Loss: 2.2812\n",
      "Epoch [82/100], Step [100/500], Loss: 2.2912\n",
      "Epoch [82/100], Step [200/500], Loss: 2.2412\n",
      "Epoch [82/100], Step [300/500], Loss: 2.2012\n",
      "Epoch [82/100], Step [400/500], Loss: 2.2412\n",
      "Epoch [82/100], Step [500/500], Loss: 2.2212\n",
      "Epoch [83/100], Step [100/500], Loss: 2.2112\n",
      "Epoch [83/100], Step [200/500], Loss: 2.2712\n",
      "Epoch [83/100], Step [300/500], Loss: 2.2012\n",
      "Epoch [83/100], Step [400/500], Loss: 2.1912\n",
      "Epoch [83/100], Step [500/500], Loss: 2.2412\n",
      "Epoch [84/100], Step [100/500], Loss: 2.2012\n",
      "Epoch [84/100], Step [200/500], Loss: 2.2012\n",
      "Epoch [84/100], Step [300/500], Loss: 2.2412\n",
      "Epoch [84/100], Step [400/500], Loss: 2.2312\n",
      "Epoch [84/100], Step [500/500], Loss: 2.2312\n",
      "Epoch [85/100], Step [100/500], Loss: 2.1712\n",
      "Epoch [85/100], Step [200/500], Loss: 2.2212\n",
      "Epoch [85/100], Step [300/500], Loss: 2.2390\n",
      "Epoch [85/100], Step [400/500], Loss: 2.2512\n",
      "Epoch [85/100], Step [500/500], Loss: 2.1412\n",
      "Epoch [86/100], Step [100/500], Loss: 2.2212\n",
      "Epoch [86/100], Step [200/500], Loss: 2.1512\n",
      "Epoch [86/100], Step [300/500], Loss: 2.2112\n",
      "Epoch [86/100], Step [400/500], Loss: 2.2415\n",
      "Epoch [86/100], Step [500/500], Loss: 2.2312\n",
      "Epoch [87/100], Step [100/500], Loss: 2.2412\n",
      "Epoch [87/100], Step [200/500], Loss: 2.2012\n",
      "Epoch [87/100], Step [300/500], Loss: 2.2412\n",
      "Epoch [87/100], Step [400/500], Loss: 2.2012\n",
      "Epoch [87/100], Step [500/500], Loss: 2.2112\n",
      "Epoch [88/100], Step [100/500], Loss: 2.1012\n",
      "Epoch [88/100], Step [200/500], Loss: 2.2312\n",
      "Epoch [88/100], Step [300/500], Loss: 2.1612\n",
      "Epoch [88/100], Step [400/500], Loss: 2.1712\n",
      "Epoch [88/100], Step [500/500], Loss: 2.1712\n",
      "Epoch [89/100], Step [100/500], Loss: 2.1812\n",
      "Epoch [89/100], Step [200/500], Loss: 2.1412\n",
      "Epoch [89/100], Step [300/500], Loss: 2.1312\n",
      "Epoch [89/100], Step [400/500], Loss: 2.1812\n",
      "Epoch [89/100], Step [500/500], Loss: 2.1812\n",
      "Epoch [90/100], Step [100/500], Loss: 2.2412\n",
      "Epoch [90/100], Step [200/500], Loss: 2.1311\n",
      "Epoch [90/100], Step [300/500], Loss: 2.2212\n",
      "Epoch [90/100], Step [400/500], Loss: 2.2512\n",
      "Epoch [90/100], Step [500/500], Loss: 2.1912\n",
      "Epoch [91/100], Step [100/500], Loss: 2.1712\n",
      "Epoch [91/100], Step [200/500], Loss: 2.1212\n",
      "Epoch [91/100], Step [300/500], Loss: 2.2312\n",
      "Epoch [91/100], Step [400/500], Loss: 2.1212\n",
      "Epoch [91/100], Step [500/500], Loss: 2.1712\n",
      "Epoch [92/100], Step [100/500], Loss: 2.1312\n",
      "Epoch [92/100], Step [200/500], Loss: 2.2412\n",
      "Epoch [92/100], Step [300/500], Loss: 2.1412\n",
      "Epoch [92/100], Step [400/500], Loss: 2.1512\n",
      "Epoch [92/100], Step [500/500], Loss: 2.1012\n",
      "Epoch [93/100], Step [100/500], Loss: 2.1612\n",
      "Epoch [93/100], Step [200/500], Loss: 2.1012\n",
      "Epoch [93/100], Step [300/500], Loss: 2.2011\n",
      "Epoch [93/100], Step [400/500], Loss: 2.1012\n",
      "Epoch [93/100], Step [500/500], Loss: 2.1512\n",
      "Epoch [94/100], Step [100/500], Loss: 2.1012\n",
      "Epoch [94/100], Step [200/500], Loss: 2.1712\n",
      "Epoch [94/100], Step [300/500], Loss: 2.1612\n",
      "Epoch [94/100], Step [400/500], Loss: 2.1112\n",
      "Epoch [94/100], Step [500/500], Loss: 2.2012\n",
      "Epoch [95/100], Step [100/500], Loss: 2.2012\n",
      "Epoch [95/100], Step [200/500], Loss: 2.1612\n",
      "Epoch [95/100], Step [300/500], Loss: 2.1311\n",
      "Epoch [95/100], Step [400/500], Loss: 2.2312\n",
      "Epoch [95/100], Step [500/500], Loss: 2.1412\n",
      "Epoch [96/100], Step [100/500], Loss: 2.1612\n",
      "Epoch [96/100], Step [200/500], Loss: 2.1312\n",
      "Epoch [96/100], Step [300/500], Loss: 2.1212\n",
      "Epoch [96/100], Step [400/500], Loss: 2.1712\n",
      "Epoch [96/100], Step [500/500], Loss: 2.0812\n",
      "Epoch [97/100], Step [100/500], Loss: 2.2312\n",
      "Epoch [97/100], Step [200/500], Loss: 2.1612\n",
      "Epoch [97/100], Step [300/500], Loss: 2.1612\n",
      "Epoch [97/100], Step [400/500], Loss: 2.2212\n",
      "Epoch [97/100], Step [500/500], Loss: 2.1612\n",
      "Epoch [98/100], Step [100/500], Loss: 2.2807\n",
      "Epoch [98/100], Step [200/500], Loss: 2.2212\n",
      "Epoch [98/100], Step [300/500], Loss: 2.0812\n",
      "Epoch [98/100], Step [400/500], Loss: 2.1612\n",
      "Epoch [98/100], Step [500/500], Loss: 2.0712\n",
      "Epoch [99/100], Step [100/500], Loss: 2.1612\n",
      "Epoch [99/100], Step [200/500], Loss: 2.1611\n",
      "Epoch [99/100], Step [300/500], Loss: 2.1112\n",
      "Epoch [99/100], Step [400/500], Loss: 2.1512\n",
      "Epoch [99/100], Step [500/500], Loss: 2.2012\n",
      "Epoch [100/100], Step [100/500], Loss: 2.1712\n",
      "Epoch [100/100], Step [200/500], Loss: 2.1312\n",
      "Epoch [100/100], Step [300/500], Loss: 2.1612\n",
      "Epoch [100/100], Step [400/500], Loss: 2.1712\n",
      "Epoch [100/100], Step [500/500], Loss: 2.2311\n"
     ]
    }
   ],
   "source": [
    "# Train the model\n",
    "total_step = len(train_loader)\n",
    "for epoch in range(num_epochs):\n",
    "    for i, (images, labels) in enumerate(train_loader):  \n",
    "        # Move tensors to the configured device\n",
    "        images_np = np.asarray(images)\n",
    "        images = images.reshape(-1, 3, 32, 32).to(device)\n",
    "        labels = labels.to(device)\n",
    "        \n",
    "        # Forward pass\n",
    "        outputs = my_model(images)\n",
    "        loss = criterion(outputs, labels)\n",
    "        \n",
    "        # Backward and optimize\n",
    "        optimizer.zero_grad()\n",
    "        loss.backward()\n",
    "        optimizer.step()\n",
    "        \n",
    "        if (i+1) % 100 == 0:\n",
    "            print ('Epoch [{}/{}], Step [{}/{}], Loss: {:.4f}' \n",
    "                   .format(epoch+1, num_epochs, i+1, total_step, loss.item()))"
   ]
  },
  {
   "cell_type": "code",
   "execution_count": 0,
   "metadata": {
    "colab": {
     "base_uri": "https://localhost:8080/",
     "height": 87
    },
    "colab_type": "code",
    "id": "3fs7RfqlPNQ-",
    "outputId": "7069da49-9d6f-4977-f888-3f2932e75ac8"
   },
   "outputs": [
    {
     "name": "stderr",
     "output_type": "stream",
     "text": [
      "/usr/local/lib/python3.6/dist-packages/torch/nn/modules/container.py:92: UserWarning: Implicit dimension choice for softmax has been deprecated. Change the call to include dim=X as an argument.\n",
      "  input = module(input)\n"
     ]
    },
    {
     "name": "stdout",
     "output_type": "stream",
     "text": [
      "Accuracy of the network on the 10000 test images: 26.41 %\n"
     ]
    }
   ],
   "source": [
    "# Test the model before performing adverserial attacks\n",
    "with torch.no_grad():\n",
    "    correct = 0\n",
    "    total = 0\n",
    "    for images, labels in test_loader:\n",
    "        images = images.reshape(-1, 3, 32, 32).to(device)\n",
    "        labels = labels.to(device)\n",
    "        outputs = my_model(images)\n",
    "        _, predicted = torch.max(outputs.data, 1)\n",
    "        total += labels.size(0)\n",
    "        correct += (predicted == labels).sum().item()\n",
    "\n",
    "    print('Accuracy of the network on the {} test images: {} %'.format(total, 100 * correct / total))"
   ]
  },
  {
   "cell_type": "code",
   "execution_count": 0,
   "metadata": {
    "colab": {},
    "colab_type": "code",
    "id": "TsXwukTTPNRB"
   },
   "outputs": [],
   "source": [
    "for param in my_model.parameters():\n",
    "    param.requires_grad= False"
   ]
  },
  {
   "cell_type": "code",
   "execution_count": 0,
   "metadata": {
    "colab": {
     "base_uri": "https://localhost:8080/",
     "height": 1295
    },
    "colab_type": "code",
    "id": "oNisKtbMLeNd",
    "outputId": "3a3b946f-7365-4d1a-f6f6-6f1880c08d24"
   },
   "outputs": [
    {
     "name": "stderr",
     "output_type": "stream",
     "text": [
      "/usr/local/lib/python3.6/dist-packages/torch/nn/modules/container.py:92: UserWarning: Implicit dimension choice for softmax has been deprecated. Change the call to include dim=X as an argument.\n",
      "  input = module(input)\n"
     ]
    },
    {
     "name": "stdout",
     "output_type": "stream",
     "text": [
      "accuracy of the network on the 10000 test images for epsilon value 0.0001:69.54 %\n",
      "accuracy of the network on the 10000 test images for epsilon value 0.0001:69.93 %\n",
      "accuracy of the network on the 10000 test images for epsilon value 0.0001:69.83 %\n",
      "accuracy of the network on the 10000 test images for epsilon value 0.0001:69.82 %\n",
      "accuracy of the network on the 10000 test images for epsilon value 0.0001:70.16 %\n",
      "accuracy of the network on the 10000 test images for epsilon value 0.0001:69.76 %\n",
      "accuracy of the network on the 10000 test images for epsilon value 0.0001:69.66 %\n",
      "accuracy of the network on the 10000 test images for epsilon value 0.0001:69.51 %\n",
      "accuracy of the network on the 10000 test images for epsilon value 0.0001:69.82 %\n",
      "accuracy of the network on the 10000 test images for epsilon value 0.0003:69.2 %\n",
      "accuracy of the network on the 10000 test images for epsilon value 0.0003:68.82 %\n",
      "accuracy of the network on the 10000 test images for epsilon value 0.0003:69.17 %\n",
      "accuracy of the network on the 10000 test images for epsilon value 0.0003:69.03 %\n",
      "accuracy of the network on the 10000 test images for epsilon value 0.0003:69.38 %\n",
      "accuracy of the network on the 10000 test images for epsilon value 0.0003:69.37 %\n",
      "accuracy of the network on the 10000 test images for epsilon value 0.0003:69.05 %\n",
      "accuracy of the network on the 10000 test images for epsilon value 0.0003:68.68 %\n",
      "accuracy of the network on the 10000 test images for epsilon value 0.0003:69.46 %\n",
      "accuracy of the network on the 10000 test images for epsilon value 0.001:67.21 %\n",
      "accuracy of the network on the 10000 test images for epsilon value 0.001:66.59 %\n",
      "accuracy of the network on the 10000 test images for epsilon value 0.001:67.34 %\n",
      "accuracy of the network on the 10000 test images for epsilon value 0.001:67.68 %\n",
      "accuracy of the network on the 10000 test images for epsilon value 0.001:67.48 %\n",
      "accuracy of the network on the 10000 test images for epsilon value 0.001:67.92 %\n",
      "accuracy of the network on the 10000 test images for epsilon value 0.001:67.29 %\n",
      "accuracy of the network on the 10000 test images for epsilon value 0.001:66.33 %\n",
      "accuracy of the network on the 10000 test images for epsilon value 0.001:67.49 %\n",
      "accuracy of the network on the 10000 test images for epsilon value 0.003:65.54 %\n",
      "accuracy of the network on the 10000 test images for epsilon value 0.003:64.36 %\n",
      "accuracy of the network on the 10000 test images for epsilon value 0.003:65.67 %\n",
      "accuracy of the network on the 10000 test images for epsilon value 0.003:65.73 %\n",
      "accuracy of the network on the 10000 test images for epsilon value 0.003:65.73 %\n",
      "accuracy of the network on the 10000 test images for epsilon value 0.003:65.66 %\n",
      "accuracy of the network on the 10000 test images for epsilon value 0.003:65.29 %\n",
      "accuracy of the network on the 10000 test images for epsilon value 0.003:63.51 %\n",
      "accuracy of the network on the 10000 test images for epsilon value 0.003:65.3 %\n",
      "accuracy of the network on the 10000 test images for epsilon value 0.01:63.32 %\n",
      "accuracy of the network on the 10000 test images for epsilon value 0.01:62.25 %\n",
      "accuracy of the network on the 10000 test images for epsilon value 0.01:63.41 %\n",
      "accuracy of the network on the 10000 test images for epsilon value 0.01:63.63 %\n",
      "accuracy of the network on the 10000 test images for epsilon value 0.01:63.66 %\n",
      "accuracy of the network on the 10000 test images for epsilon value 0.01:64.0 %\n",
      "accuracy of the network on the 10000 test images for epsilon value 0.01:63.62 %\n",
      "accuracy of the network on the 10000 test images for epsilon value 0.01:61.93 %\n",
      "accuracy of the network on the 10000 test images for epsilon value 0.01:63.39 %\n",
      "accuracy of the network on the 10000 test images for epsilon value 0.03:59.19 %\n",
      "accuracy of the network on the 10000 test images for epsilon value 0.03:57.6 %\n",
      "accuracy of the network on the 10000 test images for epsilon value 0.03:58.74 %\n",
      "accuracy of the network on the 10000 test images for epsilon value 0.03:58.66 %\n",
      "accuracy of the network on the 10000 test images for epsilon value 0.03:58.9 %\n",
      "accuracy of the network on the 10000 test images for epsilon value 0.03:59.62 %\n",
      "accuracy of the network on the 10000 test images for epsilon value 0.03:59.46 %\n",
      "accuracy of the network on the 10000 test images for epsilon value 0.03:57.06 %\n",
      "accuracy of the network on the 10000 test images for epsilon value 0.03:58.91 %\n",
      "accuracy of the network on the 10000 test images for epsilon value 0.1:47.81 %\n",
      "accuracy of the network on the 10000 test images for epsilon value 0.1:45.74 %\n",
      "accuracy of the network on the 10000 test images for epsilon value 0.1:46.61 %\n",
      "accuracy of the network on the 10000 test images for epsilon value 0.1:48.01 %\n",
      "accuracy of the network on the 10000 test images for epsilon value 0.1:46.93 %\n",
      "accuracy of the network on the 10000 test images for epsilon value 0.1:48.38 %\n",
      "accuracy of the network on the 10000 test images for epsilon value 0.1:48.6 %\n",
      "accuracy of the network on the 10000 test images for epsilon value 0.1:45.66 %\n",
      "accuracy of the network on the 10000 test images for epsilon value 0.1:48.29 %\n",
      "accuracy of the network on the 10000 test images for epsilon value 0.3:29.89 %\n",
      "accuracy of the network on the 10000 test images for epsilon value 0.3:27.39 %\n",
      "accuracy of the network on the 10000 test images for epsilon value 0.3:28.34 %\n",
      "accuracy of the network on the 10000 test images for epsilon value 0.3:29.69 %\n",
      "accuracy of the network on the 10000 test images for epsilon value 0.3:30.3 %\n",
      "accuracy of the network on the 10000 test images for epsilon value 0.3:30.2 %\n",
      "accuracy of the network on the 10000 test images for epsilon value 0.3:30.69 %\n",
      "accuracy of the network on the 10000 test images for epsilon value 0.3:28.57 %\n",
      "accuracy of the network on the 10000 test images for epsilon value 0.3:29.53 %\n"
     ]
    }
   ],
   "source": [
    "import numpy as np\n",
    "\n",
    "# Targeted FGSM attack\n",
    "epsilon=[0.0001,0.0003,0.001,0.003,0.01,0.03,0.1,0.3]\n",
    "average_accuracies = []\n",
    "save_images = []\n",
    "\n",
    "for value in epsilon:\n",
    "    accuracy = []\n",
    "    for k in range(1, 10):\n",
    "        l=[]\n",
    "        sign=[]\n",
    "        flag = 1\n",
    "        for i,(images,labels) in enumerate(test_loader):\n",
    "            copyOf_images=images.clone().detach()\n",
    "            copyOf_images=copyOf_images.reshape(-1,3,32,32).clone().to(device)\n",
    "            copyOf_images.requires_grad=True\n",
    "            target_class=(labels+k)%10  #missing classifying it with 10 classes though it has to be correct at least once\n",
    "            target_class=target_class.to(device)\n",
    "\n",
    "            #forward pass\n",
    "            outputs=my_model(copyOf_images)\n",
    "            loss=criterion(outputs,target_class)\n",
    "\n",
    "            #backward and optimize\n",
    "            optimizer.zero_grad()\n",
    "            loss.backward()\n",
    "            c=copyOf_images.grad.sign()\n",
    "            #actual.append((images,labels))\n",
    "            copyOf_images=copyOf_images-(value*c) \n",
    "            copyOf_images=torch.clamp(copyOf_images,0,1)\n",
    "            sign.append(c)\n",
    "            l.append((copyOf_images,labels))\n",
    "            if(k == 2 and flag == 1):\n",
    "              save_images.append(copyOf_images[0].cpu().detach().permute(1, 2, 0))\n",
    "              flag = 0\n",
    "            \n",
    "        with torch.no_grad():\n",
    "            correct=0\n",
    "            total=0\n",
    "            for images,labels in l:\n",
    "                images=images.reshape(-1,3,32,32).to(device)\n",
    "                labels=labels.to(device)\n",
    "                outputs=my_model(images)\n",
    "                _,predicted=torch.max(outputs.data,1)\n",
    "                total+=labels.size(0)\n",
    "                correct+=(predicted==labels).sum().item()\n",
    "                accuracy.append(100*correct/total)\n",
    "            print(\"accuracy of the network on the 10000 test images for epsilon value {}:{} %\".format(value,100*correct/total)) \n",
    "    accuracy = np.asarray(accuracy)\n",
    "    average_accuracies.append(np.mean(accuracy))"
   ]
  },
  {
   "cell_type": "code",
   "execution_count": 0,
   "metadata": {
    "colab": {
     "base_uri": "https://localhost:8080/",
     "height": 34
    },
    "colab_type": "code",
    "id": "2WTig7oHbb2i",
    "outputId": "5b65c366-1afe-44c9-e4e0-78c7f1eb487d"
   },
   "outputs": [
    {
     "name": "stdout",
     "output_type": "stream",
     "text": [
      "[69.9217480208212, 69.27044238765257, 67.26257596691657, 65.60755103637499, 63.32840495638567, 59.063238195821405, 47.574498151106354, 29.550498492383994]\n"
     ]
    }
   ],
   "source": []
  },
  {
   "cell_type": "code",
   "execution_count": 0,
   "metadata": {
    "colab": {
     "base_uri": "https://localhost:8080/",
     "height": 286
    },
    "colab_type": "code",
    "id": "ocBPg5GNQtOh",
    "outputId": "af02cc64-5c2b-4a04-c560-ac26a1f87245"
   },
   "outputs": [
    {
     "data": {
      "text/plain": [
       "<matplotlib.image.AxesImage at 0x7f2de1e530b8>"
      ]
     },
     "execution_count": 58,
     "metadata": {
      "tags": []
     },
     "output_type": "execute_result"
    },
    {
     "data": {
      "image/png": "[encoded data removed]",
      "text/plain": [
       "<Figure size 432x288 with 1 Axes>"
      ]
     },
     "metadata": {
      "tags": []
     },
     "output_type": "display_data"
    }
   ],
   "source": [
    "import matplotlib.pyplot as plt\n",
    "plt.imshow(copyOf_images[0].cpu().detach().permute(1, 2, 0))"
   ]
  },
  {
   "cell_type": "code",
   "execution_count": 0,
   "metadata": {
    "colab": {
     "base_uri": "https://localhost:8080/",
     "height": 71
    },
    "colab_type": "code",
    "id": "p61gqyX_PNRE",
    "outputId": "c50410fd-d0c3-4d93-af19-325fb52a93d0"
   },
   "outputs": [
    {
     "name": "stderr",
     "output_type": "stream",
     "text": [
      "/usr/local/lib/python3.6/dist-packages/torch/nn/modules/container.py:92: UserWarning: Implicit dimension choice for softmax has been deprecated. Change the call to include dim=X as an argument.\n",
      "  input = module(input)\n"
     ]
    }
   ],
   "source": [
    "l = []\n",
    "sign = []\n",
    "for epoch in range(1):\n",
    "    for i, (images, labels) in enumerate(test_loader):  \n",
    "        # Move tensors to the configured device\n",
    "        images = images.reshape(-1, 3, 32, 32).to(device)\n",
    "        images.requires_grad=True\n",
    "        labels = labels.to(device)\n",
    "        \n",
    "        # Forward pass\n",
    "        outputs = my_model(images)\n",
    "        loss = criterion(outputs, labels)\n",
    "\n",
    "        # Backward and optimize\n",
    "\n",
    "        loss.backward()\n",
    "        c =images.grad.sign()\n",
    "        images = images+ 0.01* c\n",
    "        sign.append(c)\n",
    "        l.append((images,labels))"
   ]
  },
  {
   "cell_type": "code",
   "execution_count": 0,
   "metadata": {
    "colab": {},
    "colab_type": "code",
    "id": "taLm4VrNPNRH"
   },
   "outputs": [],
   "source": [
    "im, _ = l[0]\n",
    "im = im.data.cpu().numpy()"
   ]
  },
  {
   "cell_type": "code",
   "execution_count": 0,
   "metadata": {
    "colab": {},
    "colab_type": "code",
    "id": "5iTY_3WWPNRK"
   },
   "outputs": [],
   "source": [
    "im = im.reshape(100, 3, 32, 32)"
   ]
  },
  {
   "cell_type": "code",
   "execution_count": 0,
   "metadata": {
    "colab": {},
    "colab_type": "code",
    "id": "37muVykKPNRN"
   },
   "outputs": [],
   "source": [
    "import matplotlib.pyplot as plt\n"
   ]
  },
  {
   "cell_type": "code",
   "execution_count": 0,
   "metadata": {
    "colab": {
     "base_uri": "https://localhost:8080/",
     "height": 286
    },
    "colab_type": "code",
    "id": "z3BLTBCXPNRQ",
    "outputId": "9ecef8c3-f6d6-4c01-d05f-d95157096792"
   },
   "outputs": [
    {
     "data": {
      "text/plain": [
       "<matplotlib.image.AxesImage at 0x7f4c7e1ccef0>"
      ]
     },
     "execution_count": 39,
     "metadata": {
      "tags": []
     },
     "output_type": "execute_result"
    },
    {
     "data": {
      "image/png": "[encoded data removed]",
      "text/plain": [
       "<Figure size 432x288 with 1 Axes>"
      ]
     },
     "metadata": {
      "tags": []
     },
     "output_type": "display_data"
    }
   ],
   "source": [
    "plt.imshow(im[2, 0, :, :])"
   ]
  },
  {
   "cell_type": "code",
   "execution_count": 0,
   "metadata": {
    "colab": {
     "base_uri": "https://localhost:8080/",
     "height": 88
    },
    "colab_type": "code",
    "id": "iDKMQNCWPNRT",
    "outputId": "c9a3fff8-b779-45d8-98d3-beb7ea75b3e7"
   },
   "outputs": [
    {
     "name": "stderr",
     "output_type": "stream",
     "text": [
      "/usr/local/lib/python3.6/dist-packages/torch/nn/modules/container.py:92: UserWarning: Implicit dimension choice for softmax has been deprecated. Change the call to include dim=X as an argument.\n",
      "  input = module(input)\n"
     ]
    },
    {
     "name": "stdout",
     "output_type": "stream",
     "text": [
      "Accuracy of the network on the 10000 test images: 48.88 %\n"
     ]
    }
   ],
   "source": [
    "with torch.no_grad():\n",
    "    correct = 0\n",
    "    total = 0\n",
    "    for images, labels in l:\n",
    "        images = images.reshape(-1, 3, 32, 32).to(device)\n",
    "        labels = labels.to(device)\n",
    "        outputs = my_model(images)\n",
    "        _, predicted = torch.max(outputs.data, 1)\n",
    "        total += labels.size(0)\n",
    "        correct += (predicted == labels).sum().item()\n",
    "\n",
    "    print('Accuracy of the network on the 10000 test images: {} %'.format(100 * correct / total))"
   ]
  },
  {
   "cell_type": "code",
   "execution_count": 0,
   "metadata": {
    "colab": {
     "base_uri": "https://localhost:8080/",
     "height": 295
    },
    "colab_type": "code",
    "id": "iv6zlWjxPNRW",
    "outputId": "ea57a2eb-75c0-4b77-a333-18b191734939"
   },
   "outputs": [
    {
     "data": {
      "image/png": "[encoded data removed]",
      "text/plain": [
       "<Figure size 432x288 with 1 Axes>"
      ]
     },
     "metadata": {
      "tags": []
     },
     "output_type": "display_data"
    }
   ],
   "source": [
    "from matplotlib import pyplot as plt\n",
    "\n",
    "epsilon=[0.0001,0.0003,0.001,0.003,0.01,0.03,0.1,0.3]\n",
    "epsilon = np.asarray(epsilon)\n",
    "epsilon = np.log10(epsilon)\n",
    "accuracy = [69.92, 69.27, 67.26, 65.60, 63.32, 59.06, 47.57, 29.55]\n",
    "\n",
    "plt.plot(epsilon, accuracy)\n",
    "plt.xlabel(\"Epsilon on log scale\")\n",
    "plt.ylabel(\"Accuracy (%)\")\n",
    "plt.title(\"Accuracy for Targeted FGSM attack on CIFAR10 Dataset\")\n",
    "plt.show()"
   ]
  },
  {
   "cell_type": "code",
   "execution_count": 0,
   "metadata": {
    "colab": {},
    "colab_type": "code",
    "id": "1q_sZIUaX50Q"
   },
   "outputs": [],
   "source": []
  }
 ],
 "metadata": {
  "accelerator": "GPU",
  "colab": {
   "name": "FGSM_CIFAR.ipynb",
   "provenance": [],
   "version": "0.3.2"
  },
  "kernelspec": {
   "display_name": "Python 3",
   "language": "python",
   "name": "python3"
  },
  "language_info": {
   "codemirror_mode": {
    "name": "ipython",
    "version": 3
   },
   "file_extension": ".py",
   "mimetype": "text/x-python",
   "name": "python",
   "nbconvert_exporter": "python",
   "pygments_lexer": "ipython3",
   "version": "3.6.5"
  }
 },
 "nbformat": 4,
 "nbformat_minor": 1
}
