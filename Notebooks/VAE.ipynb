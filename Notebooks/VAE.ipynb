{
 "cells": [
  {
   "cell_type": "code",
   "execution_count": 52,
   "metadata": {},
   "outputs": [],
   "source": [
    "import torch\n",
    "import torch.nn as nn\n",
    "import torch.nn.functional as F\n",
    "import torchvision\n",
    "from torchvision import transforms\n",
    "from torchvision.utils import save_image\n"
   ]
  },
  {
   "cell_type": "code",
   "execution_count": 53,
   "metadata": {},
   "outputs": [
    {
     "name": "stderr",
     "output_type": "stream",
     "text": [
      "/opt/conda/lib/python3.6/site-packages/torch/nn/functional.py:1332: UserWarning: nn.functional.sigmoid is deprecated. Use torch.sigmoid instead.\n",
      "  warnings.warn(\"nn.functional.sigmoid is deprecated. Use torch.sigmoid instead.\")\n",
      "/opt/conda/lib/python3.6/site-packages/torch/nn/_reduction.py:49: UserWarning: size_average and reduce args will be deprecated, please use reduction='sum' instead.\n",
      "  warnings.warn(warning.format(ret))\n"
     ]
    },
    {
     "name": "stdout",
     "output_type": "stream",
     "text": [
      "Epoch[1/30], Step [200/938], Reconst Loss: 19609.1641, KL Div: 438.3835, TOTAL : 20047.5476\n",
      "Epoch[1/30], Step [400/938], Reconst Loss: 18509.8770, KL Div: 469.6022, TOTAL : 18979.4791\n",
      "Epoch[1/30], Step [600/938], Reconst Loss: 18846.8340, KL Div: 456.1078, TOTAL : 19302.9418\n",
      "Epoch[1/30], Step [800/938], Reconst Loss: 17524.1230, KL Div: 511.9526, TOTAL : 18036.0757\n",
      "Epoch[2/30], Step [200/938], Reconst Loss: 16622.7852, KL Div: 535.4802, TOTAL : 17158.2654\n",
      "Epoch[2/30], Step [400/938], Reconst Loss: 17441.1953, KL Div: 496.7946, TOTAL : 17937.9899\n",
      "Epoch[2/30], Step [600/938], Reconst Loss: 16753.7891, KL Div: 545.9357, TOTAL : 17299.7248\n",
      "Epoch[2/30], Step [800/938], Reconst Loss: 15497.2988, KL Div: 561.3926, TOTAL : 16058.6914\n",
      "Epoch[3/30], Step [200/938], Reconst Loss: 15446.8750, KL Div: 603.1707, TOTAL : 16050.0457\n",
      "Epoch[3/30], Step [400/938], Reconst Loss: 15690.5889, KL Div: 651.0436, TOTAL : 16341.6324\n",
      "Epoch[3/30], Step [600/938], Reconst Loss: 16552.4980, KL Div: 618.1237, TOTAL : 17170.6217\n",
      "Epoch[3/30], Step [800/938], Reconst Loss: 15878.0664, KL Div: 698.5571, TOTAL : 16576.6235\n",
      "Epoch[4/30], Step [200/938], Reconst Loss: 14334.9346, KL Div: 711.8572, TOTAL : 15046.7918\n",
      "Epoch[4/30], Step [400/938], Reconst Loss: 15363.1729, KL Div: 689.3984, TOTAL : 16052.5712\n",
      "Epoch[4/30], Step [600/938], Reconst Loss: 14669.2354, KL Div: 696.4077, TOTAL : 15365.6431\n",
      "Epoch[4/30], Step [800/938], Reconst Loss: 14753.7734, KL Div: 689.7562, TOTAL : 15443.5296\n",
      "Epoch[5/30], Step [200/938], Reconst Loss: 13900.9297, KL Div: 734.0893, TOTAL : 14635.0190\n",
      "Epoch[5/30], Step [400/938], Reconst Loss: 14444.5166, KL Div: 725.5629, TOTAL : 15170.0795\n",
      "Epoch[5/30], Step [600/938], Reconst Loss: 14223.4834, KL Div: 745.3641, TOTAL : 14968.8475\n",
      "Epoch[5/30], Step [800/938], Reconst Loss: 14562.7744, KL Div: 731.1432, TOTAL : 15293.9176\n",
      "Epoch[6/30], Step [200/938], Reconst Loss: 13924.4160, KL Div: 733.6651, TOTAL : 14658.0811\n",
      "Epoch[6/30], Step [400/938], Reconst Loss: 14317.5889, KL Div: 729.2601, TOTAL : 15046.8490\n",
      "Epoch[6/30], Step [600/938], Reconst Loss: 14374.7646, KL Div: 748.2322, TOTAL : 15122.9968\n",
      "Epoch[6/30], Step [800/938], Reconst Loss: 14620.9678, KL Div: 728.8268, TOTAL : 15349.7946\n",
      "Epoch[7/30], Step [200/938], Reconst Loss: 14416.7871, KL Div: 744.0431, TOTAL : 15160.8302\n",
      "Epoch[7/30], Step [400/938], Reconst Loss: 14484.4766, KL Div: 743.7115, TOTAL : 15228.1880\n",
      "Epoch[7/30], Step [600/938], Reconst Loss: 14079.2754, KL Div: 754.1894, TOTAL : 14833.4648\n",
      "Epoch[7/30], Step [800/938], Reconst Loss: 14421.5977, KL Div: 733.7115, TOTAL : 15155.3092\n",
      "Epoch[8/30], Step [200/938], Reconst Loss: 14439.8789, KL Div: 837.5175, TOTAL : 15277.3964\n",
      "Epoch[8/30], Step [400/938], Reconst Loss: 15149.9844, KL Div: 748.8329, TOTAL : 15898.8173\n",
      "Epoch[8/30], Step [600/938], Reconst Loss: 14701.1484, KL Div: 781.8871, TOTAL : 15483.0356\n",
      "Epoch[8/30], Step [800/938], Reconst Loss: 15432.0723, KL Div: 778.0668, TOTAL : 16210.1391\n",
      "Epoch[9/30], Step [200/938], Reconst Loss: 14323.3633, KL Div: 793.3630, TOTAL : 15116.7263\n",
      "Epoch[9/30], Step [400/938], Reconst Loss: 14895.1572, KL Div: 771.9034, TOTAL : 15667.0606\n",
      "Epoch[9/30], Step [600/938], Reconst Loss: 13764.9268, KL Div: 792.1857, TOTAL : 14557.1125\n",
      "Epoch[9/30], Step [800/938], Reconst Loss: 13583.9307, KL Div: 800.7903, TOTAL : 14384.7209\n",
      "Epoch[10/30], Step [200/938], Reconst Loss: 14709.2539, KL Div: 805.0040, TOTAL : 15514.2579\n",
      "Epoch[10/30], Step [400/938], Reconst Loss: 13627.5146, KL Div: 774.5825, TOTAL : 14402.0972\n",
      "Epoch[10/30], Step [600/938], Reconst Loss: 14577.7197, KL Div: 809.0498, TOTAL : 15386.7695\n",
      "Epoch[10/30], Step [800/938], Reconst Loss: 13279.7119, KL Div: 782.4124, TOTAL : 14062.1243\n",
      "Epoch[11/30], Step [200/938], Reconst Loss: 14811.4355, KL Div: 805.6898, TOTAL : 15617.1253\n",
      "Epoch[11/30], Step [400/938], Reconst Loss: 14303.5049, KL Div: 765.0715, TOTAL : 15068.5764\n",
      "Epoch[11/30], Step [600/938], Reconst Loss: 13538.8320, KL Div: 802.4825, TOTAL : 14341.3146\n",
      "Epoch[11/30], Step [800/938], Reconst Loss: 14659.2646, KL Div: 788.9233, TOTAL : 15448.1879\n",
      "Epoch[12/30], Step [200/938], Reconst Loss: 13354.9473, KL Div: 805.5674, TOTAL : 14160.5147\n",
      "Epoch[12/30], Step [400/938], Reconst Loss: 12985.3477, KL Div: 796.9002, TOTAL : 13782.2479\n",
      "Epoch[12/30], Step [600/938], Reconst Loss: 14236.1895, KL Div: 794.5045, TOTAL : 15030.6940\n",
      "Epoch[12/30], Step [800/938], Reconst Loss: 13799.9678, KL Div: 788.2673, TOTAL : 14588.2351\n",
      "Epoch[13/30], Step [200/938], Reconst Loss: 14444.9834, KL Div: 793.9659, TOTAL : 15238.9493\n",
      "Epoch[13/30], Step [400/938], Reconst Loss: 13558.6289, KL Div: 775.5179, TOTAL : 14334.1469\n",
      "Epoch[13/30], Step [600/938], Reconst Loss: 15113.8750, KL Div: 802.1364, TOTAL : 15916.0114\n",
      "Epoch[13/30], Step [800/938], Reconst Loss: 13718.2637, KL Div: 793.1873, TOTAL : 14511.4509\n",
      "Epoch[14/30], Step [200/938], Reconst Loss: 13517.2871, KL Div: 799.2776, TOTAL : 14316.5647\n",
      "Epoch[14/30], Step [400/938], Reconst Loss: 14153.7041, KL Div: 806.2719, TOTAL : 14959.9760\n",
      "Epoch[14/30], Step [600/938], Reconst Loss: 13467.1689, KL Div: 761.3066, TOTAL : 14228.4756\n",
      "Epoch[14/30], Step [800/938], Reconst Loss: 13836.3125, KL Div: 818.6584, TOTAL : 14654.9709\n",
      "Epoch[15/30], Step [200/938], Reconst Loss: 13098.8379, KL Div: 799.7540, TOTAL : 13898.5919\n",
      "Epoch[15/30], Step [400/938], Reconst Loss: 13052.6240, KL Div: 800.4369, TOTAL : 13853.0609\n",
      "Epoch[15/30], Step [600/938], Reconst Loss: 13399.0791, KL Div: 817.7556, TOTAL : 14216.8347\n",
      "Epoch[15/30], Step [800/938], Reconst Loss: 13138.1387, KL Div: 785.9576, TOTAL : 13924.0963\n",
      "Epoch[16/30], Step [200/938], Reconst Loss: 13599.3740, KL Div: 844.8275, TOTAL : 14444.2015\n",
      "Epoch[16/30], Step [400/938], Reconst Loss: 13500.0381, KL Div: 829.9761, TOTAL : 14330.0142\n",
      "Epoch[16/30], Step [600/938], Reconst Loss: 12859.0596, KL Div: 789.5613, TOTAL : 13648.6209\n",
      "Epoch[16/30], Step [800/938], Reconst Loss: 13116.6953, KL Div: 814.4522, TOTAL : 13931.1475\n",
      "Epoch[17/30], Step [200/938], Reconst Loss: 13428.1738, KL Div: 816.1483, TOTAL : 14244.3221\n",
      "Epoch[17/30], Step [400/938], Reconst Loss: 13295.4326, KL Div: 810.4457, TOTAL : 14105.8784\n",
      "Epoch[17/30], Step [600/938], Reconst Loss: 13476.3643, KL Div: 822.1533, TOTAL : 14298.5175\n",
      "Epoch[17/30], Step [800/938], Reconst Loss: 14215.4082, KL Div: 803.5305, TOTAL : 15018.9387\n",
      "Epoch[18/30], Step [200/938], Reconst Loss: 13527.4736, KL Div: 816.7544, TOTAL : 14344.2280\n",
      "Epoch[18/30], Step [400/938], Reconst Loss: 12382.9590, KL Div: 803.3862, TOTAL : 13186.3452\n",
      "Epoch[18/30], Step [600/938], Reconst Loss: 13520.8232, KL Div: 790.9340, TOTAL : 14311.7573\n",
      "Epoch[18/30], Step [800/938], Reconst Loss: 14242.4932, KL Div: 819.6104, TOTAL : 15062.1036\n",
      "Epoch[19/30], Step [200/938], Reconst Loss: 13930.0977, KL Div: 817.5660, TOTAL : 14747.6636\n",
      "Epoch[19/30], Step [400/938], Reconst Loss: 13540.4287, KL Div: 801.8950, TOTAL : 14342.3237\n",
      "Epoch[19/30], Step [600/938], Reconst Loss: 12630.4082, KL Div: 796.1522, TOTAL : 13426.5604\n",
      "Epoch[19/30], Step [800/938], Reconst Loss: 13442.5420, KL Div: 808.9633, TOTAL : 14251.5052\n",
      "Epoch[20/30], Step [200/938], Reconst Loss: 14332.9307, KL Div: 795.8904, TOTAL : 15128.8210\n",
      "Epoch[20/30], Step [400/938], Reconst Loss: 13959.2305, KL Div: 807.6752, TOTAL : 14766.9057\n",
      "Epoch[20/30], Step [600/938], Reconst Loss: 12691.6211, KL Div: 824.9648, TOTAL : 13516.5859\n",
      "Epoch[20/30], Step [800/938], Reconst Loss: 14078.1084, KL Div: 796.5677, TOTAL : 14874.6761\n",
      "Epoch[21/30], Step [200/938], Reconst Loss: 12708.9893, KL Div: 819.4001, TOTAL : 13528.3894\n",
      "Epoch[21/30], Step [400/938], Reconst Loss: 12868.8467, KL Div: 825.5099, TOTAL : 13694.3566\n",
      "Epoch[21/30], Step [600/938], Reconst Loss: 14270.4785, KL Div: 818.7746, TOTAL : 15089.2531\n",
      "Epoch[21/30], Step [800/938], Reconst Loss: 13194.8779, KL Div: 852.2003, TOTAL : 14047.0782\n",
      "Epoch[22/30], Step [200/938], Reconst Loss: 13562.8330, KL Div: 814.7427, TOTAL : 14377.5757\n",
      "Epoch[22/30], Step [400/938], Reconst Loss: 14335.5615, KL Div: 830.6129, TOTAL : 15166.1744\n",
      "Epoch[22/30], Step [600/938], Reconst Loss: 12215.9092, KL Div: 840.0104, TOTAL : 13055.9196\n",
      "Epoch[22/30], Step [800/938], Reconst Loss: 13319.8848, KL Div: 812.6680, TOTAL : 14132.5528\n",
      "Epoch[23/30], Step [200/938], Reconst Loss: 14165.3105, KL Div: 829.2711, TOTAL : 14994.5816\n"
     ]
    },
    {
     "name": "stdout",
     "output_type": "stream",
     "text": [
      "Epoch[23/30], Step [400/938], Reconst Loss: 12716.3477, KL Div: 829.8295, TOTAL : 13546.1772\n",
      "Epoch[23/30], Step [600/938], Reconst Loss: 14114.1133, KL Div: 852.9409, TOTAL : 14967.0541\n",
      "Epoch[23/30], Step [800/938], Reconst Loss: 12012.3057, KL Div: 812.5269, TOTAL : 12824.8326\n",
      "Epoch[24/30], Step [200/938], Reconst Loss: 13563.8438, KL Div: 857.0262, TOTAL : 14420.8699\n",
      "Epoch[24/30], Step [400/938], Reconst Loss: 12631.9805, KL Div: 828.7588, TOTAL : 13460.7393\n",
      "Epoch[24/30], Step [600/938], Reconst Loss: 14019.6523, KL Div: 842.1604, TOTAL : 14861.8127\n",
      "Epoch[24/30], Step [800/938], Reconst Loss: 14006.7910, KL Div: 815.0608, TOTAL : 14821.8518\n",
      "Epoch[25/30], Step [200/938], Reconst Loss: 13507.3867, KL Div: 833.0582, TOTAL : 14340.4449\n",
      "Epoch[25/30], Step [400/938], Reconst Loss: 12886.6816, KL Div: 836.1169, TOTAL : 13722.7985\n",
      "Epoch[25/30], Step [600/938], Reconst Loss: 12908.9375, KL Div: 834.4130, TOTAL : 13743.3505\n",
      "Epoch[25/30], Step [800/938], Reconst Loss: 14187.6953, KL Div: 810.7383, TOTAL : 14998.4336\n",
      "Epoch[26/30], Step [200/938], Reconst Loss: 12937.6465, KL Div: 780.8972, TOTAL : 13718.5436\n",
      "Epoch[26/30], Step [400/938], Reconst Loss: 13212.3906, KL Div: 814.2870, TOTAL : 14026.6777\n",
      "Epoch[26/30], Step [600/938], Reconst Loss: 13562.8496, KL Div: 815.4827, TOTAL : 14378.3323\n",
      "Epoch[26/30], Step [800/938], Reconst Loss: 13754.8018, KL Div: 814.1921, TOTAL : 14568.9938\n",
      "Epoch[27/30], Step [200/938], Reconst Loss: 13664.9600, KL Div: 843.5535, TOTAL : 14508.5134\n",
      "Epoch[27/30], Step [400/938], Reconst Loss: 14010.2402, KL Div: 855.3194, TOTAL : 14865.5596\n",
      "Epoch[27/30], Step [600/938], Reconst Loss: 13720.0869, KL Div: 829.6887, TOTAL : 14549.7756\n",
      "Epoch[27/30], Step [800/938], Reconst Loss: 12957.5596, KL Div: 856.7518, TOTAL : 13814.3114\n",
      "Epoch[28/30], Step [200/938], Reconst Loss: 14274.4551, KL Div: 838.8777, TOTAL : 15113.3328\n",
      "Epoch[28/30], Step [400/938], Reconst Loss: 13166.0342, KL Div: 804.6839, TOTAL : 13970.7181\n",
      "Epoch[28/30], Step [600/938], Reconst Loss: 12820.6514, KL Div: 831.5933, TOTAL : 13652.2446\n",
      "Epoch[28/30], Step [800/938], Reconst Loss: 12722.2031, KL Div: 803.2630, TOTAL : 13525.4661\n",
      "Epoch[29/30], Step [200/938], Reconst Loss: 14713.4736, KL Div: 835.4596, TOTAL : 15548.9332\n",
      "Epoch[29/30], Step [400/938], Reconst Loss: 12985.2637, KL Div: 858.0565, TOTAL : 13843.3201\n",
      "Epoch[29/30], Step [600/938], Reconst Loss: 13265.2686, KL Div: 806.2646, TOTAL : 14071.5331\n",
      "Epoch[29/30], Step [800/938], Reconst Loss: 13477.4971, KL Div: 813.3760, TOTAL : 14290.8730\n",
      "Epoch[30/30], Step [200/938], Reconst Loss: 13562.4424, KL Div: 820.8835, TOTAL : 14383.3259\n",
      "Epoch[30/30], Step [400/938], Reconst Loss: 12951.1387, KL Div: 851.2606, TOTAL : 13802.3992\n",
      "Epoch[30/30], Step [600/938], Reconst Loss: 13789.4014, KL Div: 812.9910, TOTAL : 14602.3923\n",
      "Epoch[30/30], Step [800/938], Reconst Loss: 12702.4150, KL Div: 796.2172, TOTAL : 13498.6322\n"
     ]
    }
   ],
   "source": [
    "\n",
    "# Device configuration\n",
    "device = torch.device('cuda' if torch.cuda.is_available() else 'cpu')\n",
    "\n",
    "# Create a directory if not exists\n",
    "sample_dir = 'samples'\n",
    "if not os.path.exists(sample_dir):\n",
    "    os.makedirs(sample_dir)\n",
    "\n",
    "# Hyper-parameters\n",
    "image_size = 784\n",
    "h_dim = 400\n",
    "z_dim = 60\n",
    "num_epochs = 30\n",
    "batch_size = 64\n",
    "learning_rate = 2e-3\n",
    "\n",
    "# MNIST dataset\n",
    "dataset = torchvision.datasets.KMNIST(root='../../data',\n",
    "                                     train=True,\n",
    "                                     transform=transforms.ToTensor(),\n",
    "                                     download=True)\n",
    "\n",
    "# Data loader\n",
    "data_loader = torch.utils.data.DataLoader(dataset=dataset,\n",
    "                                          batch_size=batch_size, \n",
    "                                          shuffle=True)\n",
    "\n",
    "\n",
    "# VAE model\n",
    "class VAE(nn.Module):\n",
    "    def __init__(self, image_size=784, h_dim=400, z_dim=60):\n",
    "        super(VAE, self).__init__()\n",
    "        self.fc1 = nn.Linear(image_size, 500)\n",
    "        self.fc2 = nn.Linear(500, 300)\n",
    "        self.fc3 = nn.Linear(300, 150)\n",
    "        self.fc4 = nn.Linear(150, z_dim)\n",
    "        self.fc41 = nn.Linear(150, z_dim)\n",
    "        self.fc5 = nn.Linear(z_dim, 150)\n",
    "        self.fc6 = nn.Linear(150, 300)\n",
    "        self.fc7 = nn.Linear(300, 500)\n",
    "        self.fc8 = nn.Linear(500, image_size)\n",
    "        \n",
    "    def encode(self, x):\n",
    "        h = F.relu(self.fc1(x))\n",
    "        h = F.relu(self.fc2(h))\n",
    "        h = F.relu(self.fc3(h))\n",
    "        return self.fc4(h), self.fc41(h)\n",
    "    \n",
    "    def reparameterize(self, mu, log_var):\n",
    "        std = torch.exp(log_var/2)\n",
    "        eps = torch.randn_like(std)\n",
    "        return mu + eps * std\n",
    "\n",
    "    def decode(self, z):\n",
    "        h = F.relu(self.fc5(z))\n",
    "        h = F.relu(self.fc6(h))\n",
    "        h = F.relu(self.fc7(h))\n",
    "        return F.sigmoid(self.fc8(h))\n",
    "    \n",
    "    def forward(self, x):\n",
    "        mu, log_var = self.encode(x)\n",
    "        z = self.reparameterize(mu, log_var)\n",
    "        x_reconst = self.decode(z)\n",
    "        return x_reconst, mu, log_var\n",
    "\n",
    "model = VAE().to(device)\n",
    "optimizer = torch.optim.Adam(model.parameters(), lr=learning_rate)\n",
    "\n",
    "# Start training\n",
    "for epoch in range(num_epochs):\n",
    "    for i, (x, _) in enumerate(data_loader):\n",
    "        # Forward pass\n",
    "        x = x.to(device).view(-1, image_size)\n",
    "        x_reconst, mu, log_var = model(x)\n",
    "        \n",
    "        # Compute reconstruction loss and kl divergence\n",
    "        # For KL divergence, see Appendix B in VAE paper or http://yunjey47.tistory.com/43\n",
    "        reconst_loss = F.binary_cross_entropy(x_reconst, x, size_average=False)\n",
    "        kl_div = - 0.5 * torch.sum(1 + log_var - mu.pow(2) - log_var.exp())\n",
    "        \n",
    "        # Backprop and optimize\n",
    "        loss = reconst_loss + kl_div\n",
    "        optimizer.zero_grad()\n",
    "        loss.backward()\n",
    "        optimizer.step()\n",
    "        \n",
    "        if (i+1) % 200 == 0:\n",
    "            print (\"Epoch[{}/{}], Step [{}/{}], Reconst Loss: {:.4f}, KL Div: {:.4f}, TOTAL : {:.4f}\" \n",
    "                   .format(epoch+1, num_epochs, i+1, len(data_loader), reconst_loss.item(), kl_div.item(), kl_div.item()+reconst_loss.item()))\n"
   ]
  },
  {
   "cell_type": "code",
   "execution_count": 54,
   "metadata": {},
   "outputs": [
    {
     "name": "stderr",
     "output_type": "stream",
     "text": [
      "/opt/conda/lib/python3.6/site-packages/torch/nn/functional.py:1332: UserWarning: nn.functional.sigmoid is deprecated. Use torch.sigmoid instead.\n",
      "  warnings.warn(\"nn.functional.sigmoid is deprecated. Use torch.sigmoid instead.\")\n"
     ]
    }
   ],
   "source": [
    "with torch.no_grad():\n",
    "    # Save the sampled images\n",
    "    z = torch.randn(batch_size, z_dim).to(device)\n",
    "    out = model.decode(z).view(-1, 1, 28, 28)\n"
   ]
  },
  {
   "cell_type": "code",
   "execution_count": 55,
   "metadata": {},
   "outputs": [],
   "source": [
    "out = out.cpu().numpy()"
   ]
  },
  {
   "cell_type": "code",
   "execution_count": 56,
   "metadata": {},
   "outputs": [],
   "source": [
    "import matplotlib.pyplot as plt"
   ]
  },
  {
   "cell_type": "code",
   "execution_count": 57,
   "metadata": {},
   "outputs": [],
   "source": [
    "out = out.reshape(-1, 28, 28)"
   ]
  },
  {
   "cell_type": "code",
   "execution_count": 76,
   "metadata": {},
   "outputs": [
    {
     "data": {
      "text/plain": [
       "<matplotlib.image.AxesImage at 0x7fecad8f64a8>"
      ]
     },
     "execution_count": 76,
     "metadata": {},
     "output_type": "execute_result"
    },
    {
     "data": {
      "image/png": "[encoded data removed]",
      "text/plain": [
       "<Figure size 432x288 with 1 Axes>"
      ]
     },
     "metadata": {},
     "output_type": "display_data"
    }
   ],
   "source": [
    "plt.imshow(out[1], cmap='Greys')"
   ]
  },
  {
   "cell_type": "code",
   "execution_count": 78,
   "metadata": {},
   "outputs": [
    {
     "name": "stderr",
     "output_type": "stream",
     "text": [
      "/opt/conda/lib/python3.6/site-packages/torch/nn/functional.py:1332: UserWarning: nn.functional.sigmoid is deprecated. Use torch.sigmoid instead.\n",
      "  warnings.warn(\"nn.functional.sigmoid is deprecated. Use torch.sigmoid instead.\")\n",
      "/opt/conda/lib/python3.6/site-packages/torch/nn/_reduction.py:49: UserWarning: size_average and reduce args will be deprecated, please use reduction='sum' instead.\n",
      "  warnings.warn(warning.format(ret))\n"
     ]
    },
    {
     "name": "stdout",
     "output_type": "stream",
     "text": [
      "Epoch[1/30], Step [200/938], Reconst Loss: 13473.8184, KL Div: 824.1640, TOTAL : 14297.9824\n",
      "Epoch[1/30], Step [400/938], Reconst Loss: 13602.9609, KL Div: 821.0224, TOTAL : 14423.9833\n",
      "Epoch[1/30], Step [600/938], Reconst Loss: 13949.1582, KL Div: 806.6505, TOTAL : 14755.8087\n",
      "Epoch[1/30], Step [800/938], Reconst Loss: 13664.4570, KL Div: 771.9769, TOTAL : 14436.4340\n",
      "Epoch[2/30], Step [200/938], Reconst Loss: 13882.6465, KL Div: 789.9166, TOTAL : 14672.5631\n",
      "Epoch[2/30], Step [400/938], Reconst Loss: 12918.0078, KL Div: 791.8185, TOTAL : 13709.8263\n",
      "Epoch[2/30], Step [600/938], Reconst Loss: 12952.6016, KL Div: 826.9355, TOTAL : 13779.5371\n",
      "Epoch[2/30], Step [800/938], Reconst Loss: 14227.3320, KL Div: 819.3240, TOTAL : 15046.6560\n"
     ]
    },
    {
     "ename": "KeyboardInterrupt",
     "evalue": "",
     "output_type": "error",
     "traceback": [
      "\u001b[0;31m---------------------------------------------------------------------------\u001b[0m",
      "\u001b[0;31mKeyboardInterrupt\u001b[0m                         Traceback (most recent call last)",
      "\u001b[0;32m<ipython-input-78-e7be1870e4c2>\u001b[0m in \u001b[0;36m<module>\u001b[0;34m()\u001b[0m\n\u001b[1;32m     14\u001b[0m         \u001b[0moptimizer\u001b[0m\u001b[0;34m.\u001b[0m\u001b[0mzero_grad\u001b[0m\u001b[0;34m(\u001b[0m\u001b[0;34m)\u001b[0m\u001b[0;34m\u001b[0m\u001b[0m\n\u001b[1;32m     15\u001b[0m         \u001b[0mloss\u001b[0m\u001b[0;34m.\u001b[0m\u001b[0mbackward\u001b[0m\u001b[0;34m(\u001b[0m\u001b[0;34m)\u001b[0m\u001b[0;34m\u001b[0m\u001b[0m\n\u001b[0;32m---> 16\u001b[0;31m         \u001b[0moptimizer\u001b[0m\u001b[0;34m.\u001b[0m\u001b[0mstep\u001b[0m\u001b[0;34m(\u001b[0m\u001b[0;34m)\u001b[0m\u001b[0;34m\u001b[0m\u001b[0m\n\u001b[0m\u001b[1;32m     17\u001b[0m \u001b[0;34m\u001b[0m\u001b[0m\n\u001b[1;32m     18\u001b[0m         \u001b[0;32mif\u001b[0m \u001b[0;34m(\u001b[0m\u001b[0mi\u001b[0m\u001b[0;34m+\u001b[0m\u001b[0;36m1\u001b[0m\u001b[0;34m)\u001b[0m \u001b[0;34m%\u001b[0m \u001b[0;36m200\u001b[0m \u001b[0;34m==\u001b[0m \u001b[0;36m0\u001b[0m\u001b[0;34m:\u001b[0m\u001b[0;34m\u001b[0m\u001b[0m\n",
      "\u001b[0;32m/opt/conda/lib/python3.6/site-packages/torch/optim/adam.py\u001b[0m in \u001b[0;36mstep\u001b[0;34m(self, closure)\u001b[0m\n\u001b[1;32m     91\u001b[0m \u001b[0;34m\u001b[0m\u001b[0m\n\u001b[1;32m     92\u001b[0m                 \u001b[0;31m# Decay the first and second moment running average coefficient\u001b[0m\u001b[0;34m\u001b[0m\u001b[0;34m\u001b[0m\u001b[0m\n\u001b[0;32m---> 93\u001b[0;31m                 \u001b[0mexp_avg\u001b[0m\u001b[0;34m.\u001b[0m\u001b[0mmul_\u001b[0m\u001b[0;34m(\u001b[0m\u001b[0mbeta1\u001b[0m\u001b[0;34m)\u001b[0m\u001b[0;34m.\u001b[0m\u001b[0madd_\u001b[0m\u001b[0;34m(\u001b[0m\u001b[0;36m1\u001b[0m \u001b[0;34m-\u001b[0m \u001b[0mbeta1\u001b[0m\u001b[0;34m,\u001b[0m \u001b[0mgrad\u001b[0m\u001b[0;34m)\u001b[0m\u001b[0;34m\u001b[0m\u001b[0m\n\u001b[0m\u001b[1;32m     94\u001b[0m                 \u001b[0mexp_avg_sq\u001b[0m\u001b[0;34m.\u001b[0m\u001b[0mmul_\u001b[0m\u001b[0;34m(\u001b[0m\u001b[0mbeta2\u001b[0m\u001b[0;34m)\u001b[0m\u001b[0;34m.\u001b[0m\u001b[0maddcmul_\u001b[0m\u001b[0;34m(\u001b[0m\u001b[0;36m1\u001b[0m \u001b[0;34m-\u001b[0m \u001b[0mbeta2\u001b[0m\u001b[0;34m,\u001b[0m \u001b[0mgrad\u001b[0m\u001b[0;34m,\u001b[0m \u001b[0mgrad\u001b[0m\u001b[0;34m)\u001b[0m\u001b[0;34m\u001b[0m\u001b[0m\n\u001b[1;32m     95\u001b[0m                 \u001b[0;32mif\u001b[0m \u001b[0mamsgrad\u001b[0m\u001b[0;34m:\u001b[0m\u001b[0;34m\u001b[0m\u001b[0m\n",
      "\u001b[0;31mKeyboardInterrupt\u001b[0m: "
     ]
    }
   ],
   "source": [
    "for epoch in range(num_epochs):\n",
    "    for i, (x, _) in enumerate(data_loader):\n",
    "        # Forward pass\n",
    "        x = x.to(device).view(-1, image_size)\n",
    "        x_reconst, mu, log_var = model(x)\n",
    "        \n",
    "        # Compute reconstruction loss and kl divergence\n",
    "        # For KL divergence, see Appendix B in VAE paper or http://yunjey47.tistory.com/43\n",
    "        reconst_loss = F.binary_cross_entropy(x_reconst, x, size_average=False)\n",
    "        kl_div = - 0.5 * torch.sum(1 + log_var - mu.pow(2) - log_var.exp())\n",
    "        \n",
    "        # Backprop and optimize\n",
    "        loss = reconst_loss + 0.8*kl_div\n",
    "        optimizer.zero_grad()\n",
    "        loss.backward()\n",
    "        optimizer.step()\n",
    "        \n",
    "        if (i+1) % 200 == 0:\n",
    "            print (\"Epoch[{}/{}], Step [{}/{}], Reconst Loss: {:.4f}, KL Div: {:.4f}, TOTAL : {:.4f}\" \n",
    "                   .format(epoch+1, num_epochs, i+1, len(data_loader), reconst_loss.item(), kl_div.item(), kl_div.item()+reconst_loss.item()))\n"
   ]
  },
  {
   "cell_type": "code",
   "execution_count": 79,
   "metadata": {},
   "outputs": [
    {
     "name": "stderr",
     "output_type": "stream",
     "text": [
      "/opt/conda/lib/python3.6/site-packages/torch/nn/functional.py:1332: UserWarning: nn.functional.sigmoid is deprecated. Use torch.sigmoid instead.\n",
      "  warnings.warn(\"nn.functional.sigmoid is deprecated. Use torch.sigmoid instead.\")\n",
      "/opt/conda/lib/python3.6/site-packages/torch/nn/_reduction.py:49: UserWarning: size_average and reduce args will be deprecated, please use reduction='sum' instead.\n",
      "  warnings.warn(warning.format(ret))\n"
     ]
    },
    {
     "name": "stdout",
     "output_type": "stream",
     "text": [
      "Epoch[1/30], Step [200/938], Reconst Loss: 13912.3730, KL Div: 891.7874, TOTAL : 14804.1605\n",
      "Epoch[1/30], Step [400/938], Reconst Loss: 13598.3916, KL Div: 877.1481, TOTAL : 14475.5397\n",
      "Epoch[1/30], Step [600/938], Reconst Loss: 14627.7041, KL Div: 861.9656, TOTAL : 15489.6697\n",
      "Epoch[1/30], Step [800/938], Reconst Loss: 12950.8887, KL Div: 862.4142, TOTAL : 13813.3029\n",
      "Epoch[2/30], Step [200/938], Reconst Loss: 13240.3145, KL Div: 888.4674, TOTAL : 14128.7819\n",
      "Epoch[2/30], Step [400/938], Reconst Loss: 13235.0225, KL Div: 876.6308, TOTAL : 14111.6533\n",
      "Epoch[2/30], Step [600/938], Reconst Loss: 13418.5068, KL Div: 885.6481, TOTAL : 14304.1549\n",
      "Epoch[2/30], Step [800/938], Reconst Loss: 13009.3223, KL Div: 875.0283, TOTAL : 13884.3505\n",
      "Epoch[3/30], Step [200/938], Reconst Loss: 13234.9863, KL Div: 901.3415, TOTAL : 14136.3278\n",
      "Epoch[3/30], Step [400/938], Reconst Loss: 14719.3535, KL Div: 870.2368, TOTAL : 15589.5903\n",
      "Epoch[3/30], Step [600/938], Reconst Loss: 13414.0576, KL Div: 895.2520, TOTAL : 14309.3096\n",
      "Epoch[3/30], Step [800/938], Reconst Loss: 12816.8281, KL Div: 899.5733, TOTAL : 13716.4014\n",
      "Epoch[4/30], Step [200/938], Reconst Loss: 14050.6230, KL Div: 888.3167, TOTAL : 14938.9397\n",
      "Epoch[4/30], Step [400/938], Reconst Loss: 13072.2773, KL Div: 890.9319, TOTAL : 13963.2092\n",
      "Epoch[4/30], Step [600/938], Reconst Loss: 13661.8584, KL Div: 876.5641, TOTAL : 14538.4225\n",
      "Epoch[4/30], Step [800/938], Reconst Loss: 13278.9521, KL Div: 893.7030, TOTAL : 14172.6552\n",
      "Epoch[5/30], Step [200/938], Reconst Loss: 13432.3496, KL Div: 891.1964, TOTAL : 14323.5460\n",
      "Epoch[5/30], Step [400/938], Reconst Loss: 13420.3115, KL Div: 871.8669, TOTAL : 14292.1785\n",
      "Epoch[5/30], Step [600/938], Reconst Loss: 14213.5049, KL Div: 867.1753, TOTAL : 15080.6802\n",
      "Epoch[5/30], Step [800/938], Reconst Loss: 12988.7734, KL Div: 902.9720, TOTAL : 13891.7454\n",
      "Epoch[6/30], Step [200/938], Reconst Loss: 12971.1816, KL Div: 871.4814, TOTAL : 13842.6630\n",
      "Epoch[6/30], Step [400/938], Reconst Loss: 13394.5371, KL Div: 905.0953, TOTAL : 14299.6324\n",
      "Epoch[6/30], Step [600/938], Reconst Loss: 14967.2939, KL Div: 910.4045, TOTAL : 15877.6984\n",
      "Epoch[6/30], Step [800/938], Reconst Loss: 13212.0684, KL Div: 873.8020, TOTAL : 14085.8704\n",
      "Epoch[7/30], Step [200/938], Reconst Loss: 14156.0635, KL Div: 886.2371, TOTAL : 15042.3006\n",
      "Epoch[7/30], Step [400/938], Reconst Loss: 13930.8564, KL Div: 873.3091, TOTAL : 14804.1655\n",
      "Epoch[7/30], Step [600/938], Reconst Loss: 13955.1338, KL Div: 858.4078, TOTAL : 14813.5416\n",
      "Epoch[7/30], Step [800/938], Reconst Loss: 12574.6094, KL Div: 867.3544, TOTAL : 13441.9638\n",
      "Epoch[8/30], Step [200/938], Reconst Loss: 12995.8896, KL Div: 899.4027, TOTAL : 13895.2924\n",
      "Epoch[8/30], Step [400/938], Reconst Loss: 13606.6084, KL Div: 908.7587, TOTAL : 14515.3671\n",
      "Epoch[8/30], Step [600/938], Reconst Loss: 12839.4971, KL Div: 856.6160, TOTAL : 13696.1130\n",
      "Epoch[8/30], Step [800/938], Reconst Loss: 13554.0830, KL Div: 863.3287, TOTAL : 14417.4117\n",
      "Epoch[9/30], Step [200/938], Reconst Loss: 14147.4111, KL Div: 867.9953, TOTAL : 15015.4064\n",
      "Epoch[9/30], Step [400/938], Reconst Loss: 14129.3770, KL Div: 869.8919, TOTAL : 14999.2689\n",
      "Epoch[9/30], Step [600/938], Reconst Loss: 14114.0625, KL Div: 886.9225, TOTAL : 15000.9850\n",
      "Epoch[9/30], Step [800/938], Reconst Loss: 12949.0049, KL Div: 883.1409, TOTAL : 13832.1458\n",
      "Epoch[10/30], Step [200/938], Reconst Loss: 13911.3799, KL Div: 901.0577, TOTAL : 14812.4376\n",
      "Epoch[10/30], Step [400/938], Reconst Loss: 12765.0156, KL Div: 877.7217, TOTAL : 13642.7373\n",
      "Epoch[10/30], Step [600/938], Reconst Loss: 13216.4434, KL Div: 880.3511, TOTAL : 14096.7944\n",
      "Epoch[10/30], Step [800/938], Reconst Loss: 13252.6445, KL Div: 874.5189, TOTAL : 14127.1634\n",
      "Epoch[11/30], Step [200/938], Reconst Loss: 13800.0264, KL Div: 883.8962, TOTAL : 14683.9226\n",
      "Epoch[11/30], Step [400/938], Reconst Loss: 14051.8027, KL Div: 931.5526, TOTAL : 14983.3553\n",
      "Epoch[11/30], Step [600/938], Reconst Loss: 12991.8789, KL Div: 888.4736, TOTAL : 13880.3525\n",
      "Epoch[11/30], Step [800/938], Reconst Loss: 14066.1377, KL Div: 867.2689, TOTAL : 14933.4066\n",
      "Epoch[12/30], Step [200/938], Reconst Loss: 12823.3457, KL Div: 900.8993, TOTAL : 13724.2450\n",
      "Epoch[12/30], Step [400/938], Reconst Loss: 13197.3652, KL Div: 886.4644, TOTAL : 14083.8297\n",
      "Epoch[12/30], Step [600/938], Reconst Loss: 12670.6914, KL Div: 882.5229, TOTAL : 13553.2144\n",
      "Epoch[12/30], Step [800/938], Reconst Loss: 13777.9258, KL Div: 907.4714, TOTAL : 14685.3972\n",
      "Epoch[13/30], Step [200/938], Reconst Loss: 13841.6650, KL Div: 900.1980, TOTAL : 14741.8630\n",
      "Epoch[13/30], Step [400/938], Reconst Loss: 13334.1367, KL Div: 900.9948, TOTAL : 14235.1315\n",
      "Epoch[13/30], Step [600/938], Reconst Loss: 12676.6953, KL Div: 884.5097, TOTAL : 13561.2050\n",
      "Epoch[13/30], Step [800/938], Reconst Loss: 14640.5293, KL Div: 903.8143, TOTAL : 15544.3436\n",
      "Epoch[14/30], Step [200/938], Reconst Loss: 12407.4082, KL Div: 917.1802, TOTAL : 13324.5884\n",
      "Epoch[14/30], Step [400/938], Reconst Loss: 13556.5225, KL Div: 867.3781, TOTAL : 14423.9006\n",
      "Epoch[14/30], Step [600/938], Reconst Loss: 13414.1465, KL Div: 878.7408, TOTAL : 14292.8873\n",
      "Epoch[14/30], Step [800/938], Reconst Loss: 15277.3994, KL Div: 891.6076, TOTAL : 16169.0070\n",
      "Epoch[15/30], Step [200/938], Reconst Loss: 13818.5156, KL Div: 900.4434, TOTAL : 14718.9590\n",
      "Epoch[15/30], Step [400/938], Reconst Loss: 13246.3555, KL Div: 909.1560, TOTAL : 14155.5115\n",
      "Epoch[15/30], Step [600/938], Reconst Loss: 13261.6689, KL Div: 877.2687, TOTAL : 14138.9377\n",
      "Epoch[15/30], Step [800/938], Reconst Loss: 13502.1201, KL Div: 900.2103, TOTAL : 14402.3304\n",
      "Epoch[16/30], Step [200/938], Reconst Loss: 13848.3496, KL Div: 892.5335, TOTAL : 14740.8831\n",
      "Epoch[16/30], Step [400/938], Reconst Loss: 12915.0352, KL Div: 868.1251, TOTAL : 13783.1602\n",
      "Epoch[16/30], Step [600/938], Reconst Loss: 13354.6514, KL Div: 915.0466, TOTAL : 14269.6979\n",
      "Epoch[16/30], Step [800/938], Reconst Loss: 13178.4678, KL Div: 885.3628, TOTAL : 14063.8306\n",
      "Epoch[17/30], Step [200/938], Reconst Loss: 14017.2109, KL Div: 893.0088, TOTAL : 14910.2197\n",
      "Epoch[17/30], Step [400/938], Reconst Loss: 13020.5195, KL Div: 908.9556, TOTAL : 13929.4752\n",
      "Epoch[17/30], Step [600/938], Reconst Loss: 13907.5703, KL Div: 915.0341, TOTAL : 14822.6044\n",
      "Epoch[17/30], Step [800/938], Reconst Loss: 12406.4365, KL Div: 910.6655, TOTAL : 13317.1021\n",
      "Epoch[18/30], Step [200/938], Reconst Loss: 13848.9502, KL Div: 871.8508, TOTAL : 14720.8010\n",
      "Epoch[18/30], Step [400/938], Reconst Loss: 12397.2725, KL Div: 855.7045, TOTAL : 13252.9770\n",
      "Epoch[18/30], Step [600/938], Reconst Loss: 13281.4434, KL Div: 900.0767, TOTAL : 14181.5200\n",
      "Epoch[18/30], Step [800/938], Reconst Loss: 13487.7891, KL Div: 889.1667, TOTAL : 14376.9558\n",
      "Epoch[19/30], Step [200/938], Reconst Loss: 14698.4521, KL Div: 904.0454, TOTAL : 15602.4976\n",
      "Epoch[19/30], Step [400/938], Reconst Loss: 13450.4424, KL Div: 915.2724, TOTAL : 14365.7148\n",
      "Epoch[19/30], Step [600/938], Reconst Loss: 13282.8096, KL Div: 889.3043, TOTAL : 14172.1138\n",
      "Epoch[19/30], Step [800/938], Reconst Loss: 12475.4785, KL Div: 896.7248, TOTAL : 13372.2033\n",
      "Epoch[20/30], Step [200/938], Reconst Loss: 12631.9424, KL Div: 876.6844, TOTAL : 13508.6268\n",
      "Epoch[20/30], Step [400/938], Reconst Loss: 13377.7979, KL Div: 879.7233, TOTAL : 14257.5211\n",
      "Epoch[20/30], Step [600/938], Reconst Loss: 13873.8145, KL Div: 882.6496, TOTAL : 14756.4641\n",
      "Epoch[20/30], Step [800/938], Reconst Loss: 14219.5059, KL Div: 891.8318, TOTAL : 15111.3376\n",
      "Epoch[21/30], Step [200/938], Reconst Loss: 13187.3389, KL Div: 890.4327, TOTAL : 14077.7716\n",
      "Epoch[21/30], Step [400/938], Reconst Loss: 13567.2881, KL Div: 885.1932, TOTAL : 14452.4813\n",
      "Epoch[21/30], Step [600/938], Reconst Loss: 14160.3682, KL Div: 906.2266, TOTAL : 15066.5947\n",
      "Epoch[21/30], Step [800/938], Reconst Loss: 12784.8672, KL Div: 912.9848, TOTAL : 13697.8520\n",
      "Epoch[22/30], Step [200/938], Reconst Loss: 11675.1621, KL Div: 914.4730, TOTAL : 12589.6351\n",
      "Epoch[22/30], Step [400/938], Reconst Loss: 12940.8818, KL Div: 869.6787, TOTAL : 13810.5605\n",
      "Epoch[22/30], Step [600/938], Reconst Loss: 13871.6152, KL Div: 881.4684, TOTAL : 14753.0837\n",
      "Epoch[22/30], Step [800/938], Reconst Loss: 13992.9756, KL Div: 881.5837, TOTAL : 14874.5593\n",
      "Epoch[23/30], Step [200/938], Reconst Loss: 13414.5791, KL Div: 897.8065, TOTAL : 14312.3856\n"
     ]
    },
    {
     "name": "stdout",
     "output_type": "stream",
     "text": [
      "Epoch[23/30], Step [400/938], Reconst Loss: 13802.7969, KL Div: 905.1202, TOTAL : 14707.9171\n",
      "Epoch[23/30], Step [600/938], Reconst Loss: 13649.5654, KL Div: 918.8653, TOTAL : 14568.4307\n",
      "Epoch[23/30], Step [800/938], Reconst Loss: 12942.3691, KL Div: 907.5715, TOTAL : 13849.9407\n",
      "Epoch[24/30], Step [200/938], Reconst Loss: 13012.0635, KL Div: 897.7147, TOTAL : 13909.7782\n",
      "Epoch[24/30], Step [400/938], Reconst Loss: 12592.4932, KL Div: 916.9952, TOTAL : 13509.4884\n",
      "Epoch[24/30], Step [600/938], Reconst Loss: 13066.1992, KL Div: 932.1506, TOTAL : 13998.3498\n",
      "Epoch[24/30], Step [800/938], Reconst Loss: 13383.7539, KL Div: 889.3903, TOTAL : 14273.1442\n",
      "Epoch[25/30], Step [200/938], Reconst Loss: 12791.3057, KL Div: 878.2718, TOTAL : 13669.5775\n",
      "Epoch[25/30], Step [400/938], Reconst Loss: 13201.4541, KL Div: 902.1658, TOTAL : 14103.6199\n",
      "Epoch[25/30], Step [600/938], Reconst Loss: 13489.7432, KL Div: 920.3289, TOTAL : 14410.0721\n",
      "Epoch[25/30], Step [800/938], Reconst Loss: 13894.0059, KL Div: 906.2416, TOTAL : 14800.2475\n",
      "Epoch[26/30], Step [200/938], Reconst Loss: 13801.8838, KL Div: 901.1746, TOTAL : 14703.0583\n",
      "Epoch[26/30], Step [400/938], Reconst Loss: 13509.0342, KL Div: 882.0403, TOTAL : 14391.0745\n",
      "Epoch[26/30], Step [600/938], Reconst Loss: 13377.9814, KL Div: 880.0905, TOTAL : 14258.0720\n",
      "Epoch[26/30], Step [800/938], Reconst Loss: 13126.4961, KL Div: 892.0200, TOTAL : 14018.5161\n",
      "Epoch[27/30], Step [200/938], Reconst Loss: 13746.4580, KL Div: 878.6018, TOTAL : 14625.0598\n"
     ]
    },
    {
     "ename": "KeyboardInterrupt",
     "evalue": "",
     "output_type": "error",
     "traceback": [
      "\u001b[0;31m---------------------------------------------------------------------------\u001b[0m",
      "\u001b[0;31mKeyboardInterrupt\u001b[0m                         Traceback (most recent call last)",
      "\u001b[0;32m<ipython-input-79-97acf7d799ae>\u001b[0m in \u001b[0;36m<module>\u001b[0;34m()\u001b[0m\n\u001b[1;32m     14\u001b[0m         \u001b[0moptimizer\u001b[0m\u001b[0;34m.\u001b[0m\u001b[0mzero_grad\u001b[0m\u001b[0;34m(\u001b[0m\u001b[0;34m)\u001b[0m\u001b[0;34m\u001b[0m\u001b[0m\n\u001b[1;32m     15\u001b[0m         \u001b[0mloss\u001b[0m\u001b[0;34m.\u001b[0m\u001b[0mbackward\u001b[0m\u001b[0;34m(\u001b[0m\u001b[0;34m)\u001b[0m\u001b[0;34m\u001b[0m\u001b[0m\n\u001b[0;32m---> 16\u001b[0;31m         \u001b[0moptimizer\u001b[0m\u001b[0;34m.\u001b[0m\u001b[0mstep\u001b[0m\u001b[0;34m(\u001b[0m\u001b[0;34m)\u001b[0m\u001b[0;34m\u001b[0m\u001b[0m\n\u001b[0m\u001b[1;32m     17\u001b[0m \u001b[0;34m\u001b[0m\u001b[0m\n\u001b[1;32m     18\u001b[0m         \u001b[0;32mif\u001b[0m \u001b[0;34m(\u001b[0m\u001b[0mi\u001b[0m\u001b[0;34m+\u001b[0m\u001b[0;36m1\u001b[0m\u001b[0;34m)\u001b[0m \u001b[0;34m%\u001b[0m \u001b[0;36m200\u001b[0m \u001b[0;34m==\u001b[0m \u001b[0;36m0\u001b[0m\u001b[0;34m:\u001b[0m\u001b[0;34m\u001b[0m\u001b[0m\n",
      "\u001b[0;32m/opt/conda/lib/python3.6/site-packages/torch/optim/adam.py\u001b[0m in \u001b[0;36mstep\u001b[0;34m(self, closure)\u001b[0m\n\u001b[1;32m    105\u001b[0m                 \u001b[0mstep_size\u001b[0m \u001b[0;34m=\u001b[0m \u001b[0mgroup\u001b[0m\u001b[0;34m[\u001b[0m\u001b[0;34m'lr'\u001b[0m\u001b[0;34m]\u001b[0m \u001b[0;34m*\u001b[0m \u001b[0mmath\u001b[0m\u001b[0;34m.\u001b[0m\u001b[0msqrt\u001b[0m\u001b[0;34m(\u001b[0m\u001b[0mbias_correction2\u001b[0m\u001b[0;34m)\u001b[0m \u001b[0;34m/\u001b[0m \u001b[0mbias_correction1\u001b[0m\u001b[0;34m\u001b[0m\u001b[0m\n\u001b[1;32m    106\u001b[0m \u001b[0;34m\u001b[0m\u001b[0m\n\u001b[0;32m--> 107\u001b[0;31m                 \u001b[0mp\u001b[0m\u001b[0;34m.\u001b[0m\u001b[0mdata\u001b[0m\u001b[0;34m.\u001b[0m\u001b[0maddcdiv_\u001b[0m\u001b[0;34m(\u001b[0m\u001b[0;34m-\u001b[0m\u001b[0mstep_size\u001b[0m\u001b[0;34m,\u001b[0m \u001b[0mexp_avg\u001b[0m\u001b[0;34m,\u001b[0m \u001b[0mdenom\u001b[0m\u001b[0;34m)\u001b[0m\u001b[0;34m\u001b[0m\u001b[0m\n\u001b[0m\u001b[1;32m    108\u001b[0m \u001b[0;34m\u001b[0m\u001b[0m\n\u001b[1;32m    109\u001b[0m         \u001b[0;32mreturn\u001b[0m \u001b[0mloss\u001b[0m\u001b[0;34m\u001b[0m\u001b[0m\n",
      "\u001b[0;31mKeyboardInterrupt\u001b[0m: "
     ]
    }
   ],
   "source": [
    "for epoch in range(num_epochs):\n",
    "    for i, (x, _) in enumerate(data_loader):\n",
    "        # Forward pass\n",
    "        x = x.to(device).view(-1, image_size)\n",
    "        x_reconst, mu, log_var = model(x)\n",
    "        \n",
    "        # Compute reconstruction loss and kl divergence\n",
    "        # For KL divergence, see Appendix B in VAE paper or http://yunjey47.tistory.com/43\n",
    "        reconst_loss = F.binary_cross_entropy(x_reconst, x, size_average=False)\n",
    "        kl_div = - 0.5 * torch.sum(1 + log_var - mu.pow(2) - log_var.exp())\n",
    "        \n",
    "        # Backprop and optimize\n",
    "        loss = reconst_loss + 0.8*kl_div\n",
    "        optimizer.zero_grad()\n",
    "        loss.backward()\n",
    "        optimizer.step()\n",
    "        \n",
    "        if (i+1) % 200 == 0:\n",
    "            print (\"Epoch[{}/{}], Step [{}/{}], Reconst Loss: {:.4f}, KL Div: {:.4f}, TOTAL : {:.4f}\" \n",
    "                   .format(epoch+1, num_epochs, i+1, len(data_loader), reconst_loss.item(), kl_div.item(), kl_div.item()+reconst_loss.item()))\n"
   ]
  },
  {
   "cell_type": "code",
   "execution_count": 102,
   "metadata": {},
   "outputs": [
    {
     "name": "stderr",
     "output_type": "stream",
     "text": [
      "/opt/conda/lib/python3.6/site-packages/torch/nn/functional.py:1332: UserWarning: nn.functional.sigmoid is deprecated. Use torch.sigmoid instead.\n",
      "  warnings.warn(\"nn.functional.sigmoid is deprecated. Use torch.sigmoid instead.\")\n"
     ]
    }
   ],
   "source": []
  },
  {
   "cell_type": "code",
   "execution_count": 103,
   "metadata": {},
   "outputs": [],
   "source": []
  },
  {
   "cell_type": "code",
   "execution_count": 92,
   "metadata": {},
   "outputs": [
    {
     "data": {
      "text/plain": [
       "<matplotlib.image.AxesImage at 0x7fecabb19400>"
      ]
     },
     "execution_count": 92,
     "metadata": {},
     "output_type": "execute_result"
    },
    {
     "data": {
      "image/png": "[encoded data removed]",
      "text/plain": [
       "<Figure size 432x288 with 1 Axes>"
      ]
     },
     "metadata": {},
     "output_type": "display_data"
    }
   ],
   "source": [
    "plt.imshow(out[25], cmap='Greys')"
   ]
  },
  {
   "cell_type": "code",
   "execution_count": 203,
   "metadata": {},
   "outputs": [
    {
     "name": "stderr",
     "output_type": "stream",
     "text": [
      "/opt/conda/lib/python3.6/site-packages/torch/nn/functional.py:1332: UserWarning: nn.functional.sigmoid is deprecated. Use torch.sigmoid instead.\n",
      "  warnings.warn(\"nn.functional.sigmoid is deprecated. Use torch.sigmoid instead.\")\n"
     ]
    },
    {
     "data": {
      "image/png": "[encoded data removed]",
      "text/plain": [
       "<Figure size 432x288 with 4 Axes>"
      ]
     },
     "metadata": {},
     "output_type": "display_data"
    }
   ],
   "source": [
    "with torch.no_grad():\n",
    "    # Save the sampled images\n",
    "    z = torch.randn(batch_size, z_dim).to(device)\n",
    "    out = model.decode(z).view(-1, 1, 28, 28)\n",
    "out = out.reshape(-1, 28,28)\n",
    "import matplotlib.pyplot as plt\n",
    "from pylab import * \n",
    "rangee = 3\n",
    "for k in range(1, rangee):\n",
    "    subplot(2, rangee, k)\n",
    "    plt.axis('off')\n",
    "    imshow(out[k], cmap='Greys')\n",
    "    subplot(2, rangee, k+rangee)\n",
    "    imshow(out[k+rangee], cmap='Greys')\n",
    "    plt.axis('off')   \n",
    "    "
   ]
  },
  {
   "cell_type": "code",
   "execution_count": 204,
   "metadata": {},
   "outputs": [],
   "source": [
    "l = []\n",
    "for i, (x, _) in enumerate(data_loader):\n",
    "    l.append(x)\n",
    "    if i==20:\n",
    "        break\n"
   ]
  },
  {
   "cell_type": "code",
   "execution_count": 247,
   "metadata": {},
   "outputs": [
    {
     "data": {
      "text/plain": [
       "<matplotlib.image.AxesImage at 0x7fecaaa73588>"
      ]
     },
     "execution_count": 247,
     "metadata": {},
     "output_type": "execute_result"
    },
    {
     "data": {
      "image/png": "[encoded data removed]",
      "text/plain": [
       "<Figure size 432x288 with 1 Axes>"
      ]
     },
     "metadata": {},
     "output_type": "display_data"
    }
   ],
   "source": [
    "a = l[10].cpu().numpy()\n",
    "a  = np.squeeze(a[9], axis=0)\n",
    "plt.imshow(a, cmap='Greys')"
   ]
  },
  {
   "cell_type": "code",
   "execution_count": 218,
   "metadata": {},
   "outputs": [
    {
     "ename": "ValueError",
     "evalue": "cannot select an axis to squeeze out which has size not equal to one",
     "output_type": "error",
     "traceback": [
      "\u001b[0;31m---------------------------------------------------------------------------\u001b[0m",
      "\u001b[0;31mValueError\u001b[0m                                Traceback (most recent call last)",
      "\u001b[0;32m<ipython-input-218-b9bcf41cc775>\u001b[0m in \u001b[0;36m<module>\u001b[0;34m()\u001b[0m\n\u001b[0;32m----> 1\u001b[0;31m \u001b[0ma\u001b[0m  \u001b[0;34m=\u001b[0m \u001b[0mnp\u001b[0m\u001b[0;34m.\u001b[0m\u001b[0msqueeze\u001b[0m\u001b[0;34m(\u001b[0m\u001b[0ma\u001b[0m\u001b[0;34m[\u001b[0m\u001b[0;36m2\u001b[0m\u001b[0;34m]\u001b[0m\u001b[0;34m,\u001b[0m \u001b[0maxis\u001b[0m\u001b[0;34m=\u001b[0m\u001b[0;36m0\u001b[0m\u001b[0;34m)\u001b[0m\u001b[0;34m\u001b[0m\u001b[0m\n\u001b[0m",
      "\u001b[0;32m/opt/conda/lib/python3.6/site-packages/numpy/core/fromnumeric.py\u001b[0m in \u001b[0;36msqueeze\u001b[0;34m(a, axis)\u001b[0m\n\u001b[1;32m   1386\u001b[0m         \u001b[0;32mreturn\u001b[0m \u001b[0msqueeze\u001b[0m\u001b[0;34m(\u001b[0m\u001b[0;34m)\u001b[0m\u001b[0;34m\u001b[0m\u001b[0m\n\u001b[1;32m   1387\u001b[0m     \u001b[0;32melse\u001b[0m\u001b[0;34m:\u001b[0m\u001b[0;34m\u001b[0m\u001b[0m\n\u001b[0;32m-> 1388\u001b[0;31m         \u001b[0;32mreturn\u001b[0m \u001b[0msqueeze\u001b[0m\u001b[0;34m(\u001b[0m\u001b[0maxis\u001b[0m\u001b[0;34m=\u001b[0m\u001b[0maxis\u001b[0m\u001b[0;34m)\u001b[0m\u001b[0;34m\u001b[0m\u001b[0m\n\u001b[0m\u001b[1;32m   1389\u001b[0m \u001b[0;34m\u001b[0m\u001b[0m\n\u001b[1;32m   1390\u001b[0m \u001b[0;34m\u001b[0m\u001b[0m\n",
      "\u001b[0;31mValueError\u001b[0m: cannot select an axis to squeeze out which has size not equal to one"
     ]
    }
   ],
   "source": [
    "test = l[0]\n"
   ]
  },
  {
   "cell_type": "code",
   "execution_count": 240,
   "metadata": {},
   "outputs": [
    {
     "name": "stderr",
     "output_type": "stream",
     "text": [
      "/opt/conda/lib/python3.6/site-packages/torch/nn/functional.py:1332: UserWarning: nn.functional.sigmoid is deprecated. Use torch.sigmoid instead.\n",
      "  warnings.warn(\"nn.functional.sigmoid is deprecated. Use torch.sigmoid instead.\")\n"
     ]
    }
   ],
   "source": [
    "with torch.no_grad():\n",
    "    x= l[10]\n",
    "    # Save the sampled images\n",
    "    x = x.to(device).view(-1, image_size)\n",
    "    x_reconst, mu, log_var = model(x)\n",
    "# out = out.reshape(-1, 28,28)\n",
    "# import matplotlib.pyplot as plt\n",
    "# from pylab import * \n",
    "# rangee = 3\n",
    "# for k in range(1, rangee):\n",
    "#     subplot(2, rangee, k)\n",
    "#     plt.axis('off')\n",
    "#     imshow(out[k], cmap='Greys')\n",
    "#     subplot(2, rangee, k+rangee)\n",
    "#     imshow(out[k+rangee], cmap='Greys')\n",
    "#     plt.axis('off')   \n",
    "    "
   ]
  },
  {
   "cell_type": "code",
   "execution_count": 241,
   "metadata": {},
   "outputs": [],
   "source": [
    "x_reconst = x_reconst.reshape(64, 28, 28)"
   ]
  },
  {
   "cell_type": "code",
   "execution_count": 242,
   "metadata": {},
   "outputs": [],
   "source": [
    "x_reconst = x_reconst.cpu().numpy()"
   ]
  },
  {
   "cell_type": "code",
   "execution_count": 248,
   "metadata": {},
   "outputs": [
    {
     "data": {
      "text/plain": [
       "<matplotlib.image.AxesImage at 0x7fecaec1f940>"
      ]
     },
     "execution_count": 248,
     "metadata": {},
     "output_type": "execute_result"
    },
    {
     "data": {
      "image/png": "[encoded data removed]",
      "text/plain": [
       "<Figure size 432x288 with 1 Axes>"
      ]
     },
     "metadata": {},
     "output_type": "display_data"
    }
   ],
   "source": [
    "plt.imshow(x_reconst[9], cmap='Greys')"
   ]
  },
  {
   "cell_type": "code",
   "execution_count": null,
   "metadata": {},
   "outputs": [],
   "source": []
  }
 ],
 "metadata": {
  "kernelspec": {
   "display_name": "Python 3",
   "language": "python",
   "name": "python3"
  },
  "language_info": {
   "codemirror_mode": {
    "name": "ipython",
    "version": 3
   },
   "file_extension": ".py",
   "mimetype": "text/x-python",
   "name": "python",
   "nbconvert_exporter": "python",
   "pygments_lexer": "ipython3",
   "version": "3.6.5"
  }
 },
 "nbformat": 4,
 "nbformat_minor": 1
}
